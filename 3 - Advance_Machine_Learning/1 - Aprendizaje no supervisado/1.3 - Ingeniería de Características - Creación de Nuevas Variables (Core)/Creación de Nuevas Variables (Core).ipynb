{
 "cells": [
  {
   "cell_type": "markdown",
   "metadata": {},
   "source": [
    "## Ingeniería de Características: Creación de Nuevas Variables (Core)"
   ]
  },
  {
   "cell_type": "markdown",
   "metadata": {},
   "source": [
    "### **Descripción:**\n",
    "\n",
    "En esta actividad, trabajarás con el dataset «Titanic – Machine Learning from Disaster» disponible en Kaggle para realizar ingeniería de características. El objetivo es crear nuevas variables a partir de las existentes y evaluar cómo estas nuevas características pueden mejorar la capacidad predictiva de un modelo de machine learning.\n",
    "\n",
    "**Enlace al dataset:** https://www.kaggle.com/c/titanic\n",
    "\n",
    "### **Objetivo:**\n",
    "\n",
    "El objetivo principal es desarrollar habilidades en la creación de nuevas variables que capturen información útil no presente en las variables originales. Estas nuevas características serán utilizadas para mejorar el rendimiento de un modelo de clasificación que prediga la supervivencia de los pasajeros del Titanic.\n",
    "\n",
    "\n",
    "### **Instrucciones:**\n",
    "\n",
    "1. **Carga de datos:**\n",
    "    - Descarga y carga el dataset «Titanic» desde Kaggle. Realiza una exploración inicial de las variables disponibles, que incluyen información sobre la edad, el género, la clase del pasajero, entre otros.\n",
    "    - Examina cuántos valores faltan en las variables importantes como la edad y el precio del boleto.\n",
    "\n",
    "2. **Exploración y preprocesamiento de datos:**\n",
    "- Realiza una limpieza de los datos, manejando los valores nulos. Por ejemplo, puedes imputar los valores faltantes de la edad con la mediana o la media según sea conveniente.\n",
    "- Revisa la distribución de las variables y asegúrate de que las categorías estén codificadas correctamente para el modelado.\n",
    "\n",
    "3. **Creación de nuevas características:**\n",
    "    - Crea nuevas variables a partir de las existentes. Algunas ideas incluyen:\n",
    "    - **Tamaño de la familia:** Combina las variables «SibSp» (número de hermanos/esposos) y «Parch» (número de padres/hijos) para crear una variable que represente el tamaño total de la familia del pasajero.\n",
    "    - **Cabina desconocida:** Crea una variable binaria que indique si la cabina de un pasajero es conocida o no, lo cual podría estar relacionado con la clase o la ubicación a bordo.\n",
    "    - **Categoría de tarifa:** Agrupa la variable «Fare» en diferentes rangos para crear una variable categórica que represente el nivel de costo del boleto.\n",
    "    - **Título del pasajero:** Extrae el título de cada pasajero desde la variable «Name» y crea una nueva variable categórica que represente estos títulos (e.g., Mr., Mrs., Miss.).\n",
    "\n",
    "4. **Evaluación de nuevas características:**\n",
    "    - Aplica un modelo de machine learning (como un modelo de regresión logística o un árbol de decisión) antes y después de agregar las nuevas características para evaluar su impacto en el rendimiento del modelo.\n",
    "    - Utiliza métricas como la exactitud y el F1-score para comparar el rendimiento con y sin las nuevas variables.\n",
    "\n",
    "5. **Interpretación de los resultados:**\n",
    "    - Analiza cuáles de las nuevas características tuvieron el mayor impacto en el rendimiento del modelo. ¿Cómo ayudaron a mejorar la capacidad predictiva del modelo en comparación con las variables originales?\n",
    "    - Discute cómo las nuevas características creadas representan una mejor captura de la información sobre los pasajeros.\n",
    "\n",
    "\n",
    "**Análisis de Resultados:**\n",
    "\n",
    "- El análisis debe centrarse en la importancia de las nuevas variables y su capacidad para mejorar la predicción de la supervivencia en el Titanic. Discute los beneficios de realizar ingeniería de características y cómo estas nuevas variables pueden capturar información latente en los datos originales."
   ]
  },
  {
   "cell_type": "markdown",
   "metadata": {},
   "source": [
    "Data Dictionary"
   ]
  },
  {
   "cell_type": "markdown",
   "metadata": {},
   "source": [
    "\n",
    "\n",
    "| **Variable** | **Definition**                  | **Key**                         |\n",
    "|--------------|----------------------------------|----------------------------------|\n",
    "| survival     | Survival                        | 0 = No, 1 = Yes                 |\n",
    "| pclass       | Ticket class                    | 1 = 1st, 2 = 2nd, 3 = 3rd       |\n",
    "| sex          | Sex                             |                                  |\n",
    "| Age          | Age in years                    |                                  |\n",
    "| sibsp        | # of siblings/spouses aboard    |                                  |\n",
    "| parch        | # of parents/children aboard    |                                  |\n",
    "| ticket       | Ticket number                   |                                  |\n",
    "| fare         | Passenger fare                  |                                  |\n",
    "| cabin        | Cabin number                    |                                  |\n",
    "| embarked     | Port of Embarkation             | C = Cherbourg, Q = Queenstown, S = Southampton |"
   ]
  },
  {
   "cell_type": "markdown",
   "metadata": {},
   "source": [
    "### **Librerias y Dataset**"
   ]
  },
  {
   "cell_type": "code",
   "execution_count": 1,
   "metadata": {},
   "outputs": [],
   "source": [
    "import os\n",
    "import pandas as pd\n",
    "import numpy as np\n",
    "import utils\n",
    "import seaborn as sns\n",
    "import matplotlib.pyplot as plt\n",
    "from sklearn.preprocessing import StandardScaler\n",
    "from sklearn.decomposition import PCA\n",
    "import kagglehub\n",
    "import kaggle\n",
    "import zipfile\n",
    "import pandas as pd\n",
    "from sklearn.model_selection import train_test_split\n",
    "from sklearn.linear_model import LogisticRegression\n",
    "from sklearn.tree import DecisionTreeClassifier\n",
    "from sklearn.preprocessing import StandardScaler\n",
    "from sklearn.metrics import accuracy_score, f1_score, classification_report"
   ]
  },
  {
   "cell_type": "code",
   "execution_count": 2,
   "metadata": {},
   "outputs": [
    {
     "name": "stdout",
     "output_type": "stream",
     "text": [
      "titanic.zip: Skipping, found more recently modified local copy (use --force to force download)\n"
     ]
    }
   ],
   "source": [
    "# Crear el directorio para guardar el dataset\n",
    "dataset_path = \"../data/titanic\"\n",
    "os.makedirs(dataset_path, exist_ok=True)\n",
    "\n",
    "# Cambiar al directorio del proyecto\n",
    "os.chdir(dataset_path)\n",
    "\n",
    "# Descargar el dataset desde Kaggle\n",
    "!kaggle competitions download -c titanic\n",
    "\n",
    "# Extraer el archivo ZIP\n",
    "zip_file_path = \"titanic.zip\"\n",
    "with zipfile.ZipFile(zip_file_path, 'r') as zip_ref:\n",
    "    zip_ref.extractall(\".\")  # Extraer al directorio actual\n",
    "\n",
    "# Cargar el archivo train.csv\n",
    "train = pd.read_csv('train.csv')\n",
    "test = pd.read_csv('test.csv')"
   ]
  },
  {
   "cell_type": "markdown",
   "metadata": {},
   "source": [
    "### **Exploratory Data Analysis**"
   ]
  },
  {
   "cell_type": "code",
   "execution_count": 3,
   "metadata": {},
   "outputs": [
    {
     "data": {
      "text/html": [
       "<div>\n",
       "<style scoped>\n",
       "    .dataframe tbody tr th:only-of-type {\n",
       "        vertical-align: middle;\n",
       "    }\n",
       "\n",
       "    .dataframe tbody tr th {\n",
       "        vertical-align: top;\n",
       "    }\n",
       "\n",
       "    .dataframe thead th {\n",
       "        text-align: right;\n",
       "    }\n",
       "</style>\n",
       "<table border=\"1\" class=\"dataframe\">\n",
       "  <thead>\n",
       "    <tr style=\"text-align: right;\">\n",
       "      <th></th>\n",
       "      <th>PassengerId</th>\n",
       "      <th>Survived</th>\n",
       "      <th>Pclass</th>\n",
       "      <th>Name</th>\n",
       "      <th>Sex</th>\n",
       "      <th>Age</th>\n",
       "      <th>SibSp</th>\n",
       "      <th>Parch</th>\n",
       "      <th>Ticket</th>\n",
       "      <th>Fare</th>\n",
       "      <th>Cabin</th>\n",
       "      <th>Embarked</th>\n",
       "    </tr>\n",
       "  </thead>\n",
       "  <tbody>\n",
       "    <tr>\n",
       "      <th>0</th>\n",
       "      <td>1</td>\n",
       "      <td>0</td>\n",
       "      <td>3</td>\n",
       "      <td>Braund, Mr. Owen Harris</td>\n",
       "      <td>male</td>\n",
       "      <td>22.0</td>\n",
       "      <td>1</td>\n",
       "      <td>0</td>\n",
       "      <td>A/5 21171</td>\n",
       "      <td>7.2500</td>\n",
       "      <td>NaN</td>\n",
       "      <td>S</td>\n",
       "    </tr>\n",
       "    <tr>\n",
       "      <th>1</th>\n",
       "      <td>2</td>\n",
       "      <td>1</td>\n",
       "      <td>1</td>\n",
       "      <td>Cumings, Mrs. John Bradley (Florence Briggs Th...</td>\n",
       "      <td>female</td>\n",
       "      <td>38.0</td>\n",
       "      <td>1</td>\n",
       "      <td>0</td>\n",
       "      <td>PC 17599</td>\n",
       "      <td>71.2833</td>\n",
       "      <td>C85</td>\n",
       "      <td>C</td>\n",
       "    </tr>\n",
       "    <tr>\n",
       "      <th>2</th>\n",
       "      <td>3</td>\n",
       "      <td>1</td>\n",
       "      <td>3</td>\n",
       "      <td>Heikkinen, Miss. Laina</td>\n",
       "      <td>female</td>\n",
       "      <td>26.0</td>\n",
       "      <td>0</td>\n",
       "      <td>0</td>\n",
       "      <td>STON/O2. 3101282</td>\n",
       "      <td>7.9250</td>\n",
       "      <td>NaN</td>\n",
       "      <td>S</td>\n",
       "    </tr>\n",
       "    <tr>\n",
       "      <th>3</th>\n",
       "      <td>4</td>\n",
       "      <td>1</td>\n",
       "      <td>1</td>\n",
       "      <td>Futrelle, Mrs. Jacques Heath (Lily May Peel)</td>\n",
       "      <td>female</td>\n",
       "      <td>35.0</td>\n",
       "      <td>1</td>\n",
       "      <td>0</td>\n",
       "      <td>113803</td>\n",
       "      <td>53.1000</td>\n",
       "      <td>C123</td>\n",
       "      <td>S</td>\n",
       "    </tr>\n",
       "    <tr>\n",
       "      <th>4</th>\n",
       "      <td>5</td>\n",
       "      <td>0</td>\n",
       "      <td>3</td>\n",
       "      <td>Allen, Mr. William Henry</td>\n",
       "      <td>male</td>\n",
       "      <td>35.0</td>\n",
       "      <td>0</td>\n",
       "      <td>0</td>\n",
       "      <td>373450</td>\n",
       "      <td>8.0500</td>\n",
       "      <td>NaN</td>\n",
       "      <td>S</td>\n",
       "    </tr>\n",
       "  </tbody>\n",
       "</table>\n",
       "</div>"
      ],
      "text/plain": [
       "   PassengerId  Survived  Pclass  \\\n",
       "0            1         0       3   \n",
       "1            2         1       1   \n",
       "2            3         1       3   \n",
       "3            4         1       1   \n",
       "4            5         0       3   \n",
       "\n",
       "                                                Name     Sex   Age  SibSp  \\\n",
       "0                            Braund, Mr. Owen Harris    male  22.0      1   \n",
       "1  Cumings, Mrs. John Bradley (Florence Briggs Th...  female  38.0      1   \n",
       "2                             Heikkinen, Miss. Laina  female  26.0      0   \n",
       "3       Futrelle, Mrs. Jacques Heath (Lily May Peel)  female  35.0      1   \n",
       "4                           Allen, Mr. William Henry    male  35.0      0   \n",
       "\n",
       "   Parch            Ticket     Fare Cabin Embarked  \n",
       "0      0         A/5 21171   7.2500   NaN        S  \n",
       "1      0          PC 17599  71.2833   C85        C  \n",
       "2      0  STON/O2. 3101282   7.9250   NaN        S  \n",
       "3      0            113803  53.1000  C123        S  \n",
       "4      0            373450   8.0500   NaN        S  "
      ]
     },
     "execution_count": 3,
     "metadata": {},
     "output_type": "execute_result"
    }
   ],
   "source": [
    "train.head()"
   ]
  },
  {
   "cell_type": "code",
   "execution_count": 4,
   "metadata": {},
   "outputs": [],
   "source": [
    "train.drop(['PassengerId'], axis=1, inplace=True)"
   ]
  },
  {
   "cell_type": "code",
   "execution_count": 5,
   "metadata": {},
   "outputs": [
    {
     "name": "stdout",
     "output_type": "stream",
     "text": [
      "<class 'pandas.core.frame.DataFrame'>\n",
      "RangeIndex: 891 entries, 0 to 890\n",
      "Data columns (total 11 columns):\n",
      " #   Column    Non-Null Count  Dtype  \n",
      "---  ------    --------------  -----  \n",
      " 0   Survived  891 non-null    int64  \n",
      " 1   Pclass    891 non-null    int64  \n",
      " 2   Name      891 non-null    object \n",
      " 3   Sex       891 non-null    object \n",
      " 4   Age       714 non-null    float64\n",
      " 5   SibSp     891 non-null    int64  \n",
      " 6   Parch     891 non-null    int64  \n",
      " 7   Ticket    891 non-null    object \n",
      " 8   Fare      891 non-null    float64\n",
      " 9   Cabin     204 non-null    object \n",
      " 10  Embarked  889 non-null    object \n",
      "dtypes: float64(2), int64(4), object(5)\n",
      "memory usage: 76.7+ KB\n"
     ]
    }
   ],
   "source": [
    "train.info()"
   ]
  },
  {
   "cell_type": "code",
   "execution_count": 6,
   "metadata": {},
   "outputs": [
    {
     "data": {
      "text/html": [
       "<div>\n",
       "<style scoped>\n",
       "    .dataframe tbody tr th:only-of-type {\n",
       "        vertical-align: middle;\n",
       "    }\n",
       "\n",
       "    .dataframe tbody tr th {\n",
       "        vertical-align: top;\n",
       "    }\n",
       "\n",
       "    .dataframe thead th {\n",
       "        text-align: right;\n",
       "    }\n",
       "</style>\n",
       "<table border=\"1\" class=\"dataframe\">\n",
       "  <thead>\n",
       "    <tr style=\"text-align: right;\">\n",
       "      <th></th>\n",
       "      <th>count</th>\n",
       "      <th>unique</th>\n",
       "      <th>top</th>\n",
       "      <th>freq</th>\n",
       "      <th>mean</th>\n",
       "      <th>std</th>\n",
       "      <th>min</th>\n",
       "      <th>25%</th>\n",
       "      <th>50%</th>\n",
       "      <th>75%</th>\n",
       "      <th>max</th>\n",
       "    </tr>\n",
       "  </thead>\n",
       "  <tbody>\n",
       "    <tr>\n",
       "      <th>Survived</th>\n",
       "      <td>891.0</td>\n",
       "      <td>NaN</td>\n",
       "      <td>NaN</td>\n",
       "      <td>NaN</td>\n",
       "      <td>0.383838</td>\n",
       "      <td>0.486592</td>\n",
       "      <td>0.0</td>\n",
       "      <td>0.0</td>\n",
       "      <td>0.0</td>\n",
       "      <td>1.0</td>\n",
       "      <td>1.0</td>\n",
       "    </tr>\n",
       "    <tr>\n",
       "      <th>Pclass</th>\n",
       "      <td>891.0</td>\n",
       "      <td>NaN</td>\n",
       "      <td>NaN</td>\n",
       "      <td>NaN</td>\n",
       "      <td>2.308642</td>\n",
       "      <td>0.836071</td>\n",
       "      <td>1.0</td>\n",
       "      <td>2.0</td>\n",
       "      <td>3.0</td>\n",
       "      <td>3.0</td>\n",
       "      <td>3.0</td>\n",
       "    </tr>\n",
       "    <tr>\n",
       "      <th>Name</th>\n",
       "      <td>891</td>\n",
       "      <td>891</td>\n",
       "      <td>Braund, Mr. Owen Harris</td>\n",
       "      <td>1</td>\n",
       "      <td>NaN</td>\n",
       "      <td>NaN</td>\n",
       "      <td>NaN</td>\n",
       "      <td>NaN</td>\n",
       "      <td>NaN</td>\n",
       "      <td>NaN</td>\n",
       "      <td>NaN</td>\n",
       "    </tr>\n",
       "    <tr>\n",
       "      <th>Sex</th>\n",
       "      <td>891</td>\n",
       "      <td>2</td>\n",
       "      <td>male</td>\n",
       "      <td>577</td>\n",
       "      <td>NaN</td>\n",
       "      <td>NaN</td>\n",
       "      <td>NaN</td>\n",
       "      <td>NaN</td>\n",
       "      <td>NaN</td>\n",
       "      <td>NaN</td>\n",
       "      <td>NaN</td>\n",
       "    </tr>\n",
       "    <tr>\n",
       "      <th>Age</th>\n",
       "      <td>714.0</td>\n",
       "      <td>NaN</td>\n",
       "      <td>NaN</td>\n",
       "      <td>NaN</td>\n",
       "      <td>29.699118</td>\n",
       "      <td>14.526497</td>\n",
       "      <td>0.42</td>\n",
       "      <td>20.125</td>\n",
       "      <td>28.0</td>\n",
       "      <td>38.0</td>\n",
       "      <td>80.0</td>\n",
       "    </tr>\n",
       "    <tr>\n",
       "      <th>SibSp</th>\n",
       "      <td>891.0</td>\n",
       "      <td>NaN</td>\n",
       "      <td>NaN</td>\n",
       "      <td>NaN</td>\n",
       "      <td>0.523008</td>\n",
       "      <td>1.102743</td>\n",
       "      <td>0.0</td>\n",
       "      <td>0.0</td>\n",
       "      <td>0.0</td>\n",
       "      <td>1.0</td>\n",
       "      <td>8.0</td>\n",
       "    </tr>\n",
       "    <tr>\n",
       "      <th>Parch</th>\n",
       "      <td>891.0</td>\n",
       "      <td>NaN</td>\n",
       "      <td>NaN</td>\n",
       "      <td>NaN</td>\n",
       "      <td>0.381594</td>\n",
       "      <td>0.806057</td>\n",
       "      <td>0.0</td>\n",
       "      <td>0.0</td>\n",
       "      <td>0.0</td>\n",
       "      <td>0.0</td>\n",
       "      <td>6.0</td>\n",
       "    </tr>\n",
       "    <tr>\n",
       "      <th>Ticket</th>\n",
       "      <td>891</td>\n",
       "      <td>681</td>\n",
       "      <td>347082</td>\n",
       "      <td>7</td>\n",
       "      <td>NaN</td>\n",
       "      <td>NaN</td>\n",
       "      <td>NaN</td>\n",
       "      <td>NaN</td>\n",
       "      <td>NaN</td>\n",
       "      <td>NaN</td>\n",
       "      <td>NaN</td>\n",
       "    </tr>\n",
       "    <tr>\n",
       "      <th>Fare</th>\n",
       "      <td>891.0</td>\n",
       "      <td>NaN</td>\n",
       "      <td>NaN</td>\n",
       "      <td>NaN</td>\n",
       "      <td>32.204208</td>\n",
       "      <td>49.693429</td>\n",
       "      <td>0.0</td>\n",
       "      <td>7.9104</td>\n",
       "      <td>14.4542</td>\n",
       "      <td>31.0</td>\n",
       "      <td>512.3292</td>\n",
       "    </tr>\n",
       "    <tr>\n",
       "      <th>Cabin</th>\n",
       "      <td>204</td>\n",
       "      <td>147</td>\n",
       "      <td>B96 B98</td>\n",
       "      <td>4</td>\n",
       "      <td>NaN</td>\n",
       "      <td>NaN</td>\n",
       "      <td>NaN</td>\n",
       "      <td>NaN</td>\n",
       "      <td>NaN</td>\n",
       "      <td>NaN</td>\n",
       "      <td>NaN</td>\n",
       "    </tr>\n",
       "    <tr>\n",
       "      <th>Embarked</th>\n",
       "      <td>889</td>\n",
       "      <td>3</td>\n",
       "      <td>S</td>\n",
       "      <td>644</td>\n",
       "      <td>NaN</td>\n",
       "      <td>NaN</td>\n",
       "      <td>NaN</td>\n",
       "      <td>NaN</td>\n",
       "      <td>NaN</td>\n",
       "      <td>NaN</td>\n",
       "      <td>NaN</td>\n",
       "    </tr>\n",
       "  </tbody>\n",
       "</table>\n",
       "</div>"
      ],
      "text/plain": [
       "          count unique                      top freq       mean        std  \\\n",
       "Survived  891.0    NaN                      NaN  NaN   0.383838   0.486592   \n",
       "Pclass    891.0    NaN                      NaN  NaN   2.308642   0.836071   \n",
       "Name        891    891  Braund, Mr. Owen Harris    1        NaN        NaN   \n",
       "Sex         891      2                     male  577        NaN        NaN   \n",
       "Age       714.0    NaN                      NaN  NaN  29.699118  14.526497   \n",
       "SibSp     891.0    NaN                      NaN  NaN   0.523008   1.102743   \n",
       "Parch     891.0    NaN                      NaN  NaN   0.381594   0.806057   \n",
       "Ticket      891    681                   347082    7        NaN        NaN   \n",
       "Fare      891.0    NaN                      NaN  NaN  32.204208  49.693429   \n",
       "Cabin       204    147                  B96 B98    4        NaN        NaN   \n",
       "Embarked    889      3                        S  644        NaN        NaN   \n",
       "\n",
       "           min     25%      50%   75%       max  \n",
       "Survived   0.0     0.0      0.0   1.0       1.0  \n",
       "Pclass     1.0     2.0      3.0   3.0       3.0  \n",
       "Name       NaN     NaN      NaN   NaN       NaN  \n",
       "Sex        NaN     NaN      NaN   NaN       NaN  \n",
       "Age       0.42  20.125     28.0  38.0      80.0  \n",
       "SibSp      0.0     0.0      0.0   1.0       8.0  \n",
       "Parch      0.0     0.0      0.0   0.0       6.0  \n",
       "Ticket     NaN     NaN      NaN   NaN       NaN  \n",
       "Fare       0.0  7.9104  14.4542  31.0  512.3292  \n",
       "Cabin      NaN     NaN      NaN   NaN       NaN  \n",
       "Embarked   NaN     NaN      NaN   NaN       NaN  "
      ]
     },
     "execution_count": 6,
     "metadata": {},
     "output_type": "execute_result"
    }
   ],
   "source": [
    "train.describe(include='all').T"
   ]
  },
  {
   "cell_type": "code",
   "execution_count": 7,
   "metadata": {},
   "outputs": [],
   "source": [
    "df_numeric = train.select_dtypes(include=['int64', 'float64'])"
   ]
  },
  {
   "cell_type": "code",
   "execution_count": 8,
   "metadata": {},
   "outputs": [
    {
     "data": {
      "image/png": "[encoded data removed]",
      "text/plain": [
       "<Figure size 1200x1700 with 6 Axes>"
      ]
     },
     "metadata": {},
     "output_type": "display_data"
    }
   ],
   "source": [
    "fig, axes = plt.subplots(nrows=5, ncols=3, figsize=(12, 17)) \n",
    "axes = axes.flatten()\n",
    "\n",
    "colors = sns.color_palette(\"Set2\", len(df_numeric.columns))\n",
    "for i, col in enumerate(df_numeric.columns):\n",
    "    if i < len(axes):  \n",
    "         # Cambiar a ax.hist()\n",
    "        axes[i].hist(df_numeric[col], bins='sqrt', color=colors[i], alpha=0.8, edgecolor='black', linewidth=0.5)\n",
    "        \n",
    "        # Estética\n",
    "        axes[i].set_title(col, fontsize=12, pad=5)\n",
    "        #axes[i].grid(axis='y', linestyle='--',linewidth=0.6, color='gray', alpha=0.5)\n",
    "        #axes[i].grid(axis='x', linestyle='--',linewidth=0.6, color='gray', alpha=0.5)\n",
    "        axes[i].set_facecolor('white')\n",
    "        axes[i].spines['top'].set_color('black')\n",
    "        axes[i].spines['top'].set_linewidth(0.5)\n",
    "        axes[i].spines['right'].set_color('black')\n",
    "        axes[i].spines['right'].set_linewidth(0.5)\n",
    "        axes[i].spines['left'].set_color('black')\n",
    "        axes[i].spines['left'].set_linewidth(0.5)\n",
    "        axes[i].spines['bottom'].set_color('black')\n",
    "        axes[i].spines['bottom'].set_linewidth(0.5)\n",
    "        axes[i].tick_params(axis='x', rotation=45, labelsize=8, colors='black')\n",
    "        axes[i].tick_params(axis='y', labelsize=8, colors='black')\n",
    "\n",
    "# Eliminar ejes sobrantes\n",
    "for j in range(i + 1, len(axes)):\n",
    "    fig.delaxes(axes[j])\n",
    "\n",
    "# Título general y espaciado\n",
    "fig.suptitle('Distribuciones del Dataset', fontsize=16, fontweight='bold', y= 1)\n",
    "plt.tight_layout()\n",
    "plt.show()\n"
   ]
  },
  {
   "cell_type": "code",
   "execution_count": 9,
   "metadata": {},
   "outputs": [
    {
     "data": {
      "text/html": [
       "<div>\n",
       "<style scoped>\n",
       "    .dataframe tbody tr th:only-of-type {\n",
       "        vertical-align: middle;\n",
       "    }\n",
       "\n",
       "    .dataframe tbody tr th {\n",
       "        vertical-align: top;\n",
       "    }\n",
       "\n",
       "    .dataframe thead th {\n",
       "        text-align: right;\n",
       "    }\n",
       "</style>\n",
       "<table border=\"1\" class=\"dataframe\">\n",
       "  <thead>\n",
       "    <tr style=\"text-align: right;\">\n",
       "      <th></th>\n",
       "      <th>datos sin NAs en q</th>\n",
       "      <th>Na en q</th>\n",
       "      <th>Na en %</th>\n",
       "    </tr>\n",
       "  </thead>\n",
       "  <tbody>\n",
       "    <tr>\n",
       "      <th>Cabin</th>\n",
       "      <td>204</td>\n",
       "      <td>687</td>\n",
       "      <td>77.10</td>\n",
       "    </tr>\n",
       "    <tr>\n",
       "      <th>Age</th>\n",
       "      <td>714</td>\n",
       "      <td>177</td>\n",
       "      <td>19.87</td>\n",
       "    </tr>\n",
       "    <tr>\n",
       "      <th>Embarked</th>\n",
       "      <td>889</td>\n",
       "      <td>2</td>\n",
       "      <td>0.22</td>\n",
       "    </tr>\n",
       "    <tr>\n",
       "      <th>Survived</th>\n",
       "      <td>891</td>\n",
       "      <td>0</td>\n",
       "      <td>0.00</td>\n",
       "    </tr>\n",
       "    <tr>\n",
       "      <th>Pclass</th>\n",
       "      <td>891</td>\n",
       "      <td>0</td>\n",
       "      <td>0.00</td>\n",
       "    </tr>\n",
       "    <tr>\n",
       "      <th>Name</th>\n",
       "      <td>891</td>\n",
       "      <td>0</td>\n",
       "      <td>0.00</td>\n",
       "    </tr>\n",
       "    <tr>\n",
       "      <th>Sex</th>\n",
       "      <td>891</td>\n",
       "      <td>0</td>\n",
       "      <td>0.00</td>\n",
       "    </tr>\n",
       "    <tr>\n",
       "      <th>SibSp</th>\n",
       "      <td>891</td>\n",
       "      <td>0</td>\n",
       "      <td>0.00</td>\n",
       "    </tr>\n",
       "    <tr>\n",
       "      <th>Parch</th>\n",
       "      <td>891</td>\n",
       "      <td>0</td>\n",
       "      <td>0.00</td>\n",
       "    </tr>\n",
       "    <tr>\n",
       "      <th>Ticket</th>\n",
       "      <td>891</td>\n",
       "      <td>0</td>\n",
       "      <td>0.00</td>\n",
       "    </tr>\n",
       "    <tr>\n",
       "      <th>Fare</th>\n",
       "      <td>891</td>\n",
       "      <td>0</td>\n",
       "      <td>0.00</td>\n",
       "    </tr>\n",
       "  </tbody>\n",
       "</table>\n",
       "</div>"
      ],
      "text/plain": [
       "          datos sin NAs en q  Na en q  Na en %\n",
       "Cabin                    204      687    77.10\n",
       "Age                      714      177    19.87\n",
       "Embarked                 889        2     0.22\n",
       "Survived                 891        0     0.00\n",
       "Pclass                   891        0     0.00\n",
       "Name                     891        0     0.00\n",
       "Sex                      891        0     0.00\n",
       "SibSp                    891        0     0.00\n",
       "Parch                    891        0     0.00\n",
       "Ticket                   891        0     0.00\n",
       "Fare                     891        0     0.00"
      ]
     },
     "execution_count": 9,
     "metadata": {},
     "output_type": "execute_result"
    }
   ],
   "source": [
    "utils.calculate_na_statistics(train)"
   ]
  },
  {
   "cell_type": "code",
   "execution_count": 10,
   "metadata": {},
   "outputs": [
    {
     "name": "stderr",
     "output_type": "stream",
     "text": [
      "C:\\Users\\guill\\AppData\\Local\\Temp\\ipykernel_2920\\1594306531.py:2: FutureWarning: A value is trying to be set on a copy of a DataFrame or Series through chained assignment using an inplace method.\n",
      "The behavior will change in pandas 3.0. This inplace method will never work because the intermediate object on which we are setting values always behaves as a copy.\n",
      "\n",
      "For example, when doing 'df[col].method(value, inplace=True)', try using 'df.method({col: value}, inplace=True)' or df[col] = df[col].method(value) instead, to perform the operation inplace on the original object.\n",
      "\n",
      "\n",
      "  train['Age'].fillna(train['Age'].median(), inplace=True)\n"
     ]
    }
   ],
   "source": [
    "# imputa age por mediana\n",
    "train['Age'].fillna(train['Age'].median(), inplace=True)"
   ]
  },
  {
   "cell_type": "code",
   "execution_count": 11,
   "metadata": {},
   "outputs": [
    {
     "data": {
      "image/png": "[encoded data removed]",
      "text/plain": [
       "<Figure size 2400x1200 with 6 Axes>"
      ]
     },
     "metadata": {},
     "output_type": "display_data"
    }
   ],
   "source": [
    "# Obtener el número de columnas que se desean graficar\n",
    "num_cols = train.select_dtypes(include=[np.number]).shape[1]  # Solo columnas numéricas\n",
    "\n",
    "# Crear un número adecuado de subgráficos con un máximo de 6 columnas por fila\n",
    "ncols = 6  # Máximo 6 columnas por fila\n",
    "nrows = -(-num_cols // ncols)  # Calcular filas necesarias, redondeando hacia arriba\n",
    "fig, axes = plt.subplots(nrows=nrows, ncols=ncols, figsize=(4 * ncols, 12 * nrows))\n",
    "axes = axes.flatten()  # Asegurarse de que 'axes' sea un arreglo plano\n",
    "\n",
    "\n",
    "# Obtener una paleta de colores de seaborn\n",
    "colors = sns.color_palette(\"Set2\", num_cols)\n",
    "\n",
    "# Graficar cada variable en un boxplot separado\n",
    "for i, col in enumerate(train.select_dtypes(include=[np.number]).columns):\n",
    "    # Convertir la columna a numérica, forzando valores no numéricos a NaN\n",
    "    datos_columna = pd.to_numeric(train[col], errors='coerce')\n",
    "    \n",
    "    # Graficar solo si la columna contiene datos numéricos\n",
    "    if datos_columna.shape[0] > 0:  # Verificar que haya valores válidos\n",
    "        # Asignar color y modificar la línea de la mediana\n",
    "        axes[i].boxplot(datos_columna, vert=True, patch_artist=True, \n",
    "                        boxprops=dict(facecolor=colors[i]),\n",
    "                        medianprops=dict(color='black'))  # Línea de la mediana en negro\n",
    "        axes[i].set_title(f'Boxplot de {col}')\n",
    "        axes[i].set_xlabel('Valor')\n",
    "        axes[i].grid()\n",
    "\n",
    "# Ajustar el diseño\n",
    "plt.tight_layout()\n",
    "plt.show()\n"
   ]
  },
  {
   "cell_type": "code",
   "execution_count": 12,
   "metadata": {},
   "outputs": [
    {
     "name": "stderr",
     "output_type": "stream",
     "text": [
      "C:\\Users\\guill\\AppData\\Local\\Temp\\ipykernel_2920\\486169235.py:1: FutureWarning: A value is trying to be set on a copy of a DataFrame or Series through chained assignment using an inplace method.\n",
      "The behavior will change in pandas 3.0. This inplace method will never work because the intermediate object on which we are setting values always behaves as a copy.\n",
      "\n",
      "For example, when doing 'df[col].method(value, inplace=True)', try using 'df.method({col: value}, inplace=True)' or df[col] = df[col].method(value) instead, to perform the operation inplace on the original object.\n",
      "\n",
      "\n",
      "  train['Age'].fillna(train['Age'].median(), inplace=True)\n"
     ]
    }
   ],
   "source": [
    "train['Age'].fillna(train['Age'].median(), inplace=True)"
   ]
  },
  {
   "cell_type": "code",
   "execution_count": 13,
   "metadata": {},
   "outputs": [
    {
     "data": {
      "text/plain": [
       "Survived      0\n",
       "Pclass        0\n",
       "Name          0\n",
       "Sex           0\n",
       "Age           0\n",
       "SibSp         0\n",
       "Parch         0\n",
       "Ticket        0\n",
       "Fare          0\n",
       "Cabin       687\n",
       "Embarked      2\n",
       "dtype: int64"
      ]
     },
     "execution_count": 13,
     "metadata": {},
     "output_type": "execute_result"
    }
   ],
   "source": [
    "train.isna().sum()"
   ]
  },
  {
   "cell_type": "markdown",
   "metadata": {},
   "source": [
    "### **Feacture Engineering**"
   ]
  },
  {
   "cell_type": "markdown",
   "metadata": {},
   "source": [
    "Crear una nueva variable si la cabina es conocida o no"
   ]
  },
  {
   "cell_type": "code",
   "execution_count": 14,
   "metadata": {},
   "outputs": [],
   "source": [
    "# Crea una variable binaria que indique si la cabina de un pasajero es conocida o no\n",
    "train['Cabin_known'] = train['Cabin'].isna().astype(int)"
   ]
  },
  {
   "cell_type": "markdown",
   "metadata": {},
   "source": [
    "Separar Miss, Mr, Master, etc."
   ]
  },
  {
   "cell_type": "code",
   "execution_count": 15,
   "metadata": {},
   "outputs": [
    {
     "data": {
      "text/plain": [
       "0                                Braund, Mr. Owen Harris\n",
       "1      Cumings, Mrs. John Bradley (Florence Briggs Th...\n",
       "2                                 Heikkinen, Miss. Laina\n",
       "3           Futrelle, Mrs. Jacques Heath (Lily May Peel)\n",
       "4                               Allen, Mr. William Henry\n",
       "                             ...                        \n",
       "886                                Montvila, Rev. Juozas\n",
       "887                         Graham, Miss. Margaret Edith\n",
       "888             Johnston, Miss. Catherine Helen \"Carrie\"\n",
       "889                                Behr, Mr. Karl Howell\n",
       "890                                  Dooley, Mr. Patrick\n",
       "Name: Name, Length: 891, dtype: object"
      ]
     },
     "execution_count": 15,
     "metadata": {},
     "output_type": "execute_result"
    }
   ],
   "source": [
    "\n",
    "train[\"Name\"]"
   ]
  },
  {
   "cell_type": "markdown",
   "metadata": {},
   "source": [
    "Limpiamos los caracteres innecesarios"
   ]
  },
  {
   "cell_type": "code",
   "execution_count": 16,
   "metadata": {},
   "outputs": [
    {
     "name": "stderr",
     "output_type": "stream",
     "text": [
      "<>:2: SyntaxWarning: invalid escape sequence '\\.'\n",
      "<>:2: SyntaxWarning: invalid escape sequence '\\.'\n",
      "C:\\Users\\guill\\AppData\\Local\\Temp\\ipykernel_2920\\4055176995.py:2: SyntaxWarning: invalid escape sequence '\\.'\n",
      "  train['Title'] = train['Name'].str.extract('([A-Za-z]+)\\.', expand=True)\n"
     ]
    }
   ],
   "source": [
    "# Limpieza de caracteres\n",
    "train['Title'] = train['Name'].str.extract('([A-Za-z]+)\\.', expand=True)"
   ]
  },
  {
   "cell_type": "markdown",
   "metadata": {},
   "source": [
    "Verificamos"
   ]
  },
  {
   "cell_type": "code",
   "execution_count": 17,
   "metadata": {},
   "outputs": [
    {
     "data": {
      "text/plain": [
       "['Mr',\n",
       " 'Mrs',\n",
       " 'Miss',\n",
       " 'Master',\n",
       " 'Don',\n",
       " 'Rev',\n",
       " 'Dr',\n",
       " 'Mme',\n",
       " 'Ms',\n",
       " 'Major',\n",
       " 'Lady',\n",
       " 'Sir',\n",
       " 'Mlle',\n",
       " 'Col',\n",
       " 'Capt',\n",
       " 'Countess',\n",
       " 'Jonkheer']"
      ]
     },
     "execution_count": 17,
     "metadata": {},
     "output_type": "execute_result"
    }
   ],
   "source": [
    "train['Title'].unique().tolist()"
   ]
  },
  {
   "cell_type": "markdown",
   "metadata": {},
   "source": [
    "Creamos diferentes clases para agrupar costos de pasajes"
   ]
  },
  {
   "cell_type": "code",
   "execution_count": 18,
   "metadata": {},
   "outputs": [
    {
     "data": {
      "text/plain": [
       "\"\\n# Aplicar la categorización\\ntrain['Fare_Category'] = train['Fare'].apply(categorize_fare_statistical)\\n\\n# Para ver las estadísticas de las categorías\\nstats = analyze_fare_categories(train)\\nprint(stats)\\n\\n# Para ver la distribución de categorías\\nprint(train['Fare_Category'].value_counts().sort_index())\\n\""
      ]
     },
     "execution_count": 18,
     "metadata": {},
     "output_type": "execute_result"
    }
   ],
   "source": [
    "def categorize_fare_statistical(fare, mean=32.204208, std=49.693429):\n",
    "    \"\"\"\n",
    "    Categoriza las tarifas usando rangos estadísticos basados en la media y desviación estándar.\n",
    "    \n",
    "    Args:\n",
    "        fare (float): Precio del boleto\n",
    "        mean (float): Media de las tarifas\n",
    "        std (float): Desviación estándar de las tarifas\n",
    "        \n",
    "    Returns:\n",
    "        str: Categoría de la tarifa\n",
    "    \"\"\"\n",
    "    if fare <= 0:\n",
    "        return 'Free_Ticket'\n",
    "    elif fare <= mean - std:  # Menos de (media - 1 desv. est.)\n",
    "        return 'Very_Low_Fare'\n",
    "    elif fare <= mean - (std/2):  # Menos de (media - 0.5 desv. est.)\n",
    "        return 'Low_Fare'\n",
    "    elif fare <= mean + (std/2):  # Entre (media - 0.5 desv. est.) y (media + 0.5 desv. est.)\n",
    "        return 'Medium_Fare'\n",
    "    elif fare <= mean + std:  # Entre (media + 0.5 desv. est.) y (media + 1 desv. est.)\n",
    "        return 'High_Fare'\n",
    "    elif fare <= mean + (2*std):  # Entre (media + 1 desv. est.) y (media + 2 desv. est.)\n",
    "        return 'Very_High_Fare'\n",
    "    else:  # Más de (media + 2 desv. est.)\n",
    "        return 'Premium_Fare'\n",
    "\n",
    "def analyze_fare_categories(df):\n",
    "    \"\"\"\n",
    "    Aplica la categorización y muestra estadísticas descriptivas por categoría.\n",
    "    \n",
    "    Args:\n",
    "        df (pandas.DataFrame): DataFrame con la columna 'Fare'\n",
    "    \"\"\"\n",
    "    import pandas as pd\n",
    "    \n",
    "    # Crear la nueva columna de categorías\n",
    "    df['Fare_Category'] = df['Fare'].apply(categorize_fare_statistical)\n",
    "    \n",
    "    # Calcular estadísticas por categoría\n",
    "    stats = df.groupby('Fare_Category').agg({\n",
    "        'Fare': ['count', 'min', 'max', 'mean', 'std']\n",
    "    }).round(2)\n",
    "    \n",
    "    return stats\n",
    "\n",
    "# Ejemplo de uso:\n",
    "\"\"\"\n",
    "# Aplicar la categorización\n",
    "train['Fare_Category'] = train['Fare'].apply(categorize_fare_statistical)\n",
    "\n",
    "# Para ver las estadísticas de las categorías\n",
    "stats = analyze_fare_categories(train)\n",
    "print(stats)\n",
    "\n",
    "# Para ver la distribución de categorías\n",
    "print(train['Fare_Category'].value_counts().sort_index())\n",
    "\"\"\""
   ]
  },
  {
   "cell_type": "code",
   "execution_count": 19,
   "metadata": {},
   "outputs": [],
   "source": [
    "train['Fare_Category'] = train['Fare'].apply(categorize_fare_statistical)"
   ]
  },
  {
   "cell_type": "markdown",
   "metadata": {},
   "source": [
    "Verificamos"
   ]
  },
  {
   "cell_type": "code",
   "execution_count": 20,
   "metadata": {},
   "outputs": [
    {
     "data": {
      "text/plain": [
       "Fare_Category\n",
       "Free_Ticket        15\n",
       "High_Fare          52\n",
       "Low_Fare           69\n",
       "Medium_Fare       682\n",
       "Premium_Fare       38\n",
       "Very_High_Fare     35\n",
       "Name: count, dtype: int64"
      ]
     },
     "execution_count": 20,
     "metadata": {},
     "output_type": "execute_result"
    }
   ],
   "source": [
    "train['Fare_Category'].value_counts().sort_index()"
   ]
  },
  {
   "cell_type": "markdown",
   "metadata": {},
   "source": [
    "Creamos grupos para agrupar familias por su tamaño"
   ]
  },
  {
   "cell_type": "code",
   "execution_count": 21,
   "metadata": {},
   "outputs": [
    {
     "name": "stdout",
     "output_type": "stream",
     "text": [
      "\n",
      "Distribución de Tamaños Familiares:\n",
      "FamilySize\n",
      "1     537\n",
      "2     161\n",
      "3     102\n",
      "4      29\n",
      "5      15\n",
      "6      22\n",
      "7      12\n",
      "8       6\n",
      "11      7\n",
      "Name: count, dtype: int64\n",
      "\n",
      "Distribución de Categorías:\n",
      "FamilyCategory\n",
      "Solo       537\n",
      "Pequeña    263\n",
      "Mediana     66\n",
      "Grande      25\n",
      "Name: count, dtype: int64\n"
     ]
    }
   ],
   "source": [
    "# Calcular el tamaño total de la familia (sumamos 1 para incluir al pasajero)\n",
    "train['FamilySize'] = train['SibSp'] + train['Parch'] + 1\n",
    "\n",
    "# Crear una categoría basada en el tamaño\n",
    "train['FamilyCategory'] = pd.cut(train['FamilySize'],\n",
    "                                bins=[0, 1, 3, 6, float('inf')],\n",
    "                                labels=['Solo', 'Pequeña', 'Mediana', 'Grande'])\n",
    "\n",
    "# Flag para personas que viajan solas\n",
    "train['IsAlone'] = (train['FamilySize'] == 1).astype(int)\n",
    "\n",
    "# Ver la distribución\n",
    "print(\"\\nDistribución de Tamaños Familiares:\")\n",
    "print(train['FamilySize'].value_counts().sort_index())\n",
    "\n",
    "print(\"\\nDistribución de Categorías:\")\n",
    "print(train['FamilyCategory'].value_counts())\n"
   ]
  },
  {
   "cell_type": "markdown",
   "metadata": {},
   "source": [
    "Verificamos el nuevo df con las nuevas variables"
   ]
  },
  {
   "cell_type": "code",
   "execution_count": 22,
   "metadata": {},
   "outputs": [
    {
     "data": {
      "text/html": [
       "<div>\n",
       "<style scoped>\n",
       "    .dataframe tbody tr th:only-of-type {\n",
       "        vertical-align: middle;\n",
       "    }\n",
       "\n",
       "    .dataframe tbody tr th {\n",
       "        vertical-align: top;\n",
       "    }\n",
       "\n",
       "    .dataframe thead th {\n",
       "        text-align: right;\n",
       "    }\n",
       "</style>\n",
       "<table border=\"1\" class=\"dataframe\">\n",
       "  <thead>\n",
       "    <tr style=\"text-align: right;\">\n",
       "      <th></th>\n",
       "      <th>Survived</th>\n",
       "      <th>Pclass</th>\n",
       "      <th>Name</th>\n",
       "      <th>Sex</th>\n",
       "      <th>Age</th>\n",
       "      <th>SibSp</th>\n",
       "      <th>Parch</th>\n",
       "      <th>Ticket</th>\n",
       "      <th>Fare</th>\n",
       "      <th>Cabin</th>\n",
       "      <th>Embarked</th>\n",
       "      <th>Cabin_known</th>\n",
       "      <th>Title</th>\n",
       "      <th>Fare_Category</th>\n",
       "      <th>FamilySize</th>\n",
       "      <th>FamilyCategory</th>\n",
       "      <th>IsAlone</th>\n",
       "    </tr>\n",
       "  </thead>\n",
       "  <tbody>\n",
       "    <tr>\n",
       "      <th>0</th>\n",
       "      <td>0</td>\n",
       "      <td>3</td>\n",
       "      <td>Braund, Mr. Owen Harris</td>\n",
       "      <td>male</td>\n",
       "      <td>22.0</td>\n",
       "      <td>1</td>\n",
       "      <td>0</td>\n",
       "      <td>A/5 21171</td>\n",
       "      <td>7.2500</td>\n",
       "      <td>NaN</td>\n",
       "      <td>S</td>\n",
       "      <td>1</td>\n",
       "      <td>Mr</td>\n",
       "      <td>Low_Fare</td>\n",
       "      <td>2</td>\n",
       "      <td>Pequeña</td>\n",
       "      <td>0</td>\n",
       "    </tr>\n",
       "    <tr>\n",
       "      <th>1</th>\n",
       "      <td>1</td>\n",
       "      <td>1</td>\n",
       "      <td>Cumings, Mrs. John Bradley (Florence Briggs Th...</td>\n",
       "      <td>female</td>\n",
       "      <td>38.0</td>\n",
       "      <td>1</td>\n",
       "      <td>0</td>\n",
       "      <td>PC 17599</td>\n",
       "      <td>71.2833</td>\n",
       "      <td>C85</td>\n",
       "      <td>C</td>\n",
       "      <td>0</td>\n",
       "      <td>Mrs</td>\n",
       "      <td>High_Fare</td>\n",
       "      <td>2</td>\n",
       "      <td>Pequeña</td>\n",
       "      <td>0</td>\n",
       "    </tr>\n",
       "    <tr>\n",
       "      <th>2</th>\n",
       "      <td>1</td>\n",
       "      <td>3</td>\n",
       "      <td>Heikkinen, Miss. Laina</td>\n",
       "      <td>female</td>\n",
       "      <td>26.0</td>\n",
       "      <td>0</td>\n",
       "      <td>0</td>\n",
       "      <td>STON/O2. 3101282</td>\n",
       "      <td>7.9250</td>\n",
       "      <td>NaN</td>\n",
       "      <td>S</td>\n",
       "      <td>1</td>\n",
       "      <td>Miss</td>\n",
       "      <td>Medium_Fare</td>\n",
       "      <td>1</td>\n",
       "      <td>Solo</td>\n",
       "      <td>1</td>\n",
       "    </tr>\n",
       "    <tr>\n",
       "      <th>3</th>\n",
       "      <td>1</td>\n",
       "      <td>1</td>\n",
       "      <td>Futrelle, Mrs. Jacques Heath (Lily May Peel)</td>\n",
       "      <td>female</td>\n",
       "      <td>35.0</td>\n",
       "      <td>1</td>\n",
       "      <td>0</td>\n",
       "      <td>113803</td>\n",
       "      <td>53.1000</td>\n",
       "      <td>C123</td>\n",
       "      <td>S</td>\n",
       "      <td>0</td>\n",
       "      <td>Mrs</td>\n",
       "      <td>Medium_Fare</td>\n",
       "      <td>2</td>\n",
       "      <td>Pequeña</td>\n",
       "      <td>0</td>\n",
       "    </tr>\n",
       "    <tr>\n",
       "      <th>4</th>\n",
       "      <td>0</td>\n",
       "      <td>3</td>\n",
       "      <td>Allen, Mr. William Henry</td>\n",
       "      <td>male</td>\n",
       "      <td>35.0</td>\n",
       "      <td>0</td>\n",
       "      <td>0</td>\n",
       "      <td>373450</td>\n",
       "      <td>8.0500</td>\n",
       "      <td>NaN</td>\n",
       "      <td>S</td>\n",
       "      <td>1</td>\n",
       "      <td>Mr</td>\n",
       "      <td>Medium_Fare</td>\n",
       "      <td>1</td>\n",
       "      <td>Solo</td>\n",
       "      <td>1</td>\n",
       "    </tr>\n",
       "    <tr>\n",
       "      <th>5</th>\n",
       "      <td>0</td>\n",
       "      <td>3</td>\n",
       "      <td>Moran, Mr. James</td>\n",
       "      <td>male</td>\n",
       "      <td>28.0</td>\n",
       "      <td>0</td>\n",
       "      <td>0</td>\n",
       "      <td>330877</td>\n",
       "      <td>8.4583</td>\n",
       "      <td>NaN</td>\n",
       "      <td>Q</td>\n",
       "      <td>1</td>\n",
       "      <td>Mr</td>\n",
       "      <td>Medium_Fare</td>\n",
       "      <td>1</td>\n",
       "      <td>Solo</td>\n",
       "      <td>1</td>\n",
       "    </tr>\n",
       "    <tr>\n",
       "      <th>6</th>\n",
       "      <td>0</td>\n",
       "      <td>1</td>\n",
       "      <td>McCarthy, Mr. Timothy J</td>\n",
       "      <td>male</td>\n",
       "      <td>54.0</td>\n",
       "      <td>0</td>\n",
       "      <td>0</td>\n",
       "      <td>17463</td>\n",
       "      <td>51.8625</td>\n",
       "      <td>E46</td>\n",
       "      <td>S</td>\n",
       "      <td>0</td>\n",
       "      <td>Mr</td>\n",
       "      <td>Medium_Fare</td>\n",
       "      <td>1</td>\n",
       "      <td>Solo</td>\n",
       "      <td>1</td>\n",
       "    </tr>\n",
       "    <tr>\n",
       "      <th>7</th>\n",
       "      <td>0</td>\n",
       "      <td>3</td>\n",
       "      <td>Palsson, Master. Gosta Leonard</td>\n",
       "      <td>male</td>\n",
       "      <td>2.0</td>\n",
       "      <td>3</td>\n",
       "      <td>1</td>\n",
       "      <td>349909</td>\n",
       "      <td>21.0750</td>\n",
       "      <td>NaN</td>\n",
       "      <td>S</td>\n",
       "      <td>1</td>\n",
       "      <td>Master</td>\n",
       "      <td>Medium_Fare</td>\n",
       "      <td>5</td>\n",
       "      <td>Mediana</td>\n",
       "      <td>0</td>\n",
       "    </tr>\n",
       "    <tr>\n",
       "      <th>8</th>\n",
       "      <td>1</td>\n",
       "      <td>3</td>\n",
       "      <td>Johnson, Mrs. Oscar W (Elisabeth Vilhelmina Berg)</td>\n",
       "      <td>female</td>\n",
       "      <td>27.0</td>\n",
       "      <td>0</td>\n",
       "      <td>2</td>\n",
       "      <td>347742</td>\n",
       "      <td>11.1333</td>\n",
       "      <td>NaN</td>\n",
       "      <td>S</td>\n",
       "      <td>1</td>\n",
       "      <td>Mrs</td>\n",
       "      <td>Medium_Fare</td>\n",
       "      <td>3</td>\n",
       "      <td>Pequeña</td>\n",
       "      <td>0</td>\n",
       "    </tr>\n",
       "    <tr>\n",
       "      <th>9</th>\n",
       "      <td>1</td>\n",
       "      <td>2</td>\n",
       "      <td>Nasser, Mrs. Nicholas (Adele Achem)</td>\n",
       "      <td>female</td>\n",
       "      <td>14.0</td>\n",
       "      <td>1</td>\n",
       "      <td>0</td>\n",
       "      <td>237736</td>\n",
       "      <td>30.0708</td>\n",
       "      <td>NaN</td>\n",
       "      <td>C</td>\n",
       "      <td>1</td>\n",
       "      <td>Mrs</td>\n",
       "      <td>Medium_Fare</td>\n",
       "      <td>2</td>\n",
       "      <td>Pequeña</td>\n",
       "      <td>0</td>\n",
       "    </tr>\n",
       "  </tbody>\n",
       "</table>\n",
       "</div>"
      ],
      "text/plain": [
       "   Survived  Pclass                                               Name  \\\n",
       "0         0       3                            Braund, Mr. Owen Harris   \n",
       "1         1       1  Cumings, Mrs. John Bradley (Florence Briggs Th...   \n",
       "2         1       3                             Heikkinen, Miss. Laina   \n",
       "3         1       1       Futrelle, Mrs. Jacques Heath (Lily May Peel)   \n",
       "4         0       3                           Allen, Mr. William Henry   \n",
       "5         0       3                                   Moran, Mr. James   \n",
       "6         0       1                            McCarthy, Mr. Timothy J   \n",
       "7         0       3                     Palsson, Master. Gosta Leonard   \n",
       "8         1       3  Johnson, Mrs. Oscar W (Elisabeth Vilhelmina Berg)   \n",
       "9         1       2                Nasser, Mrs. Nicholas (Adele Achem)   \n",
       "\n",
       "      Sex   Age  SibSp  Parch            Ticket     Fare Cabin Embarked  \\\n",
       "0    male  22.0      1      0         A/5 21171   7.2500   NaN        S   \n",
       "1  female  38.0      1      0          PC 17599  71.2833   C85        C   \n",
       "2  female  26.0      0      0  STON/O2. 3101282   7.9250   NaN        S   \n",
       "3  female  35.0      1      0            113803  53.1000  C123        S   \n",
       "4    male  35.0      0      0            373450   8.0500   NaN        S   \n",
       "5    male  28.0      0      0            330877   8.4583   NaN        Q   \n",
       "6    male  54.0      0      0             17463  51.8625   E46        S   \n",
       "7    male   2.0      3      1            349909  21.0750   NaN        S   \n",
       "8  female  27.0      0      2            347742  11.1333   NaN        S   \n",
       "9  female  14.0      1      0            237736  30.0708   NaN        C   \n",
       "\n",
       "   Cabin_known   Title Fare_Category  FamilySize FamilyCategory  IsAlone  \n",
       "0            1      Mr      Low_Fare           2        Pequeña        0  \n",
       "1            0     Mrs     High_Fare           2        Pequeña        0  \n",
       "2            1    Miss   Medium_Fare           1           Solo        1  \n",
       "3            0     Mrs   Medium_Fare           2        Pequeña        0  \n",
       "4            1      Mr   Medium_Fare           1           Solo        1  \n",
       "5            1      Mr   Medium_Fare           1           Solo        1  \n",
       "6            0      Mr   Medium_Fare           1           Solo        1  \n",
       "7            1  Master   Medium_Fare           5        Mediana        0  \n",
       "8            1     Mrs   Medium_Fare           3        Pequeña        0  \n",
       "9            1     Mrs   Medium_Fare           2        Pequeña        0  "
      ]
     },
     "execution_count": 22,
     "metadata": {},
     "output_type": "execute_result"
    }
   ],
   "source": [
    "train.head(10)"
   ]
  },
  {
   "cell_type": "markdown",
   "metadata": {},
   "source": [
    "### **Modeling**"
   ]
  },
  {
   "cell_type": "markdown",
   "metadata": {},
   "source": [
    "Seleccionamos los originales y los nuevos para compararlos"
   ]
  },
  {
   "cell_type": "code",
   "execution_count": 23,
   "metadata": {},
   "outputs": [],
   "source": [
    "# Preparar los datos para el modelo original (sin las nuevas variables)\n",
    "features_original = ['Pclass', 'Sex', 'Age', 'SibSp', 'Parch', 'Fare', 'Embarked']\n",
    "\n",
    "# Preparar datos para el modelo con nuevas variables\n",
    "features_new = ['Pclass', 'Sex', 'Age', 'Embarked', 'Fare_Category', 'Cabin_known', 'FamilySize', 'IsAlone']"
   ]
  },
  {
   "cell_type": "markdown",
   "metadata": {},
   "source": [
    "Seleccionamos las variables X e y"
   ]
  },
  {
   "cell_type": "code",
   "execution_count": 24,
   "metadata": {},
   "outputs": [],
   "source": [
    "# Crear X e y para ambos casos\n",
    "X_orig = pd.get_dummies(train[features_original], drop_first=True)\n",
    "X_new = pd.get_dummies(train[features_new], drop_first=True)\n",
    "y = train['Survived']\n"
   ]
  },
  {
   "cell_type": "markdown",
   "metadata": {},
   "source": [
    "Dividimos en train y test"
   ]
  },
  {
   "cell_type": "code",
   "execution_count": 25,
   "metadata": {},
   "outputs": [],
   "source": [
    "\n",
    "# Dividir los datos en conjunto de entrenamiento y prueba\n",
    "X_orig_train, X_orig_test, y_train, y_test = train_test_split(X_orig, y, test_size=0.3, random_state=42)\n",
    "X_new_train, X_new_test, y_train_new, y_test_new = train_test_split(X_new, y, test_size=0.3, random_state=42)"
   ]
  },
  {
   "cell_type": "markdown",
   "metadata": {},
   "source": [
    "Escalamos las variables"
   ]
  },
  {
   "cell_type": "code",
   "execution_count": 26,
   "metadata": {},
   "outputs": [],
   "source": [
    "# Escalar los datos\n",
    "scaler = StandardScaler()\n",
    "X_orig_train_scaled = scaler.fit_transform(X_orig_train)\n",
    "X_orig_test_scaled = scaler.transform(X_orig_test)\n",
    "X_new_train_scaled = scaler.fit_transform(X_new_train)\n",
    "X_new_test_scaled = scaler.transform(X_new_test)\n"
   ]
  },
  {
   "cell_type": "markdown",
   "metadata": {},
   "source": [
    "Creamos nuestros modelos"
   ]
  },
  {
   "cell_type": "code",
   "execution_count": 27,
   "metadata": {},
   "outputs": [],
   "source": [
    "# Modelo 1: Regresión Logística con variables originales\n",
    "lr_orig = LogisticRegression(random_state=42, max_iter=1000)\n",
    "lr_orig.fit(X_orig_train_scaled, y_train)\n",
    "lr_orig_pred = lr_orig.predict(X_orig_test_scaled)\n",
    "\n",
    "# Modelo 2: Regresión Logística con nuevas variables\n",
    "lr_new = LogisticRegression(random_state=42, max_iter=1000)\n",
    "lr_new.fit(X_new_train_scaled, y_train_new)\n",
    "lr_new_pred = lr_new.predict(X_new_test_scaled)\n",
    "\n",
    "# Modelo 3: Árbol de Decisión con variables originales\n",
    "dt_orig = DecisionTreeClassifier(random_state=42)\n",
    "dt_orig.fit(X_orig_train_scaled, y_train)\n",
    "dt_orig_pred = dt_orig.predict(X_orig_test_scaled)\n",
    "\n",
    "# Modelo 4: Árbol de Decisión con nuevas variables\n",
    "dt_new = DecisionTreeClassifier(random_state=42)\n",
    "dt_new.fit(X_new_train_scaled, y_train_new)\n",
    "dt_new_pred = dt_new.predict(X_new_test_scaled)\n",
    "\n"
   ]
  },
  {
   "cell_type": "markdown",
   "metadata": {},
   "source": [
    "Resultados"
   ]
  },
  {
   "cell_type": "code",
   "execution_count": 28,
   "metadata": {},
   "outputs": [
    {
     "name": "stdout",
     "output_type": "stream",
     "text": [
      "RESULTADOS CON VARIABLES ORIGINALES\n",
      "\n",
      "Regresión Logística:\n",
      "Accuracy: 0.81\n",
      "F1-Score: 0.76\n",
      "\n",
      "Árbol de Decisión:\n",
      "Accuracy: 0.76\n",
      "F1-Score: 0.70\n",
      "\n",
      "RESULTADOS CON NUEVAS VARIABLES\n",
      "\n",
      "Regresión Logística:\n",
      "Accuracy: 0.82\n",
      "F1-Score: 0.77\n",
      "\n",
      "Árbol de Decisión:\n",
      "Accuracy: 0.77\n",
      "F1-Score: 0.71\n"
     ]
    }
   ],
   "source": [
    "# Imprimir resultados\n",
    "print(\"RESULTADOS CON VARIABLES ORIGINALES\")\n",
    "print(\"\\nRegresión Logística:\")\n",
    "print(f\"Accuracy: {accuracy_score(y_test, lr_orig_pred):.2f}\")\n",
    "print(f\"F1-Score: {f1_score(y_test, lr_orig_pred):.2f}\")\n",
    "print(\"\\nÁrbol de Decisión:\")\n",
    "print(f\"Accuracy: {accuracy_score(y_test, dt_orig_pred):.2f}\")\n",
    "print(f\"F1-Score: {f1_score(y_test, dt_orig_pred):.2f}\")\n",
    "\n",
    "print(\"\\nRESULTADOS CON NUEVAS VARIABLES\")\n",
    "print(\"\\nRegresión Logística:\")\n",
    "print(f\"Accuracy: {accuracy_score(y_test_new, lr_new_pred):.2f}\")\n",
    "print(f\"F1-Score: {f1_score(y_test_new, lr_new_pred):.2f}\")\n",
    "print(\"\\nÁrbol de Decisión:\")\n",
    "print(f\"Accuracy: {accuracy_score(y_test_new, dt_new_pred):.2f}\")\n",
    "print(f\"F1-Score: {f1_score(y_test_new, dt_new_pred):.2f}\")\n"
   ]
  },
  {
   "cell_type": "code",
   "execution_count": 29,
   "metadata": {},
   "outputs": [
    {
     "name": "stdout",
     "output_type": "stream",
     "text": [
      "\n",
      "Reporte detallado del mejor modelo (Regresión Logística con nuevas variables):\n",
      "              precision    recall  f1-score   support\n",
      "\n",
      "           0       0.83      0.88      0.85       157\n",
      "           1       0.81      0.74      0.77       111\n",
      "\n",
      "    accuracy                           0.82       268\n",
      "   macro avg       0.82      0.81      0.81       268\n",
      "weighted avg       0.82      0.82      0.82       268\n",
      "\n"
     ]
    }
   ],
   "source": [
    "\n",
    "# Imprimir reporte detallado para el mejor modelo\n",
    "print(\"\\nReporte detallado del mejor modelo (Regresión Logística con nuevas variables):\")\n",
    "print(classification_report(y_test_new, lr_new_pred))"
   ]
  },
  {
   "cell_type": "markdown",
   "metadata": {},
   "source": [
    "Mediante el uso de Feacture Engineering los modelos tuvieron una leve mejora."
   ]
  }
 ],
 "metadata": {
  "kernelspec": {
   "display_name": "mitic",
   "language": "python",
   "name": "python3"
  },
  "language_info": {
   "codemirror_mode": {
    "name": "ipython",
    "version": 3
   },
   "file_extension": ".py",
   "mimetype": "text/x-python",
   "name": "python",
   "nbconvert_exporter": "python",
   "pygments_lexer": "ipython3",
   "version": "3.12.7"
  }
 },
 "nbformat": 4,
 "nbformat_minor": 2
}
