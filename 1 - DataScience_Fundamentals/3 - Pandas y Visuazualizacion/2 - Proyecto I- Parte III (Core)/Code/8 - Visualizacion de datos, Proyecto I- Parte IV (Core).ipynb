{
 "cells": [
  {
   "cell_type": "markdown",
   "metadata": {},
   "source": [
    "# Proyecto I- Parte IV (Core)"
   ]
  },
  {
   "cell_type": "markdown",
   "metadata": {},
   "source": [
    "## Análisis y Predicción de Ventas en una Tienda de Retail"
   ]
  },
  {
   "cell_type": "markdown",
   "metadata": {},
   "source": [
    "### Parte IV: Análisis Exploratorio de Datos (EDA) y Visualización\n",
    "\n",
    "En esta cuarta parte del proyecto, aplicaremos técnicas avanzadas de análisis exploratorio de datos (EDA) y visualización para comprender mejor el conjunto de datos de ventas de la tienda de retail. Utilizaremos Python, Pandas y Matplotlib para explorar y visualizar los datos, identificar patrones y tendencias, y preparar los datos para un análisis más profundo."
   ]
  },
  {
   "cell_type": "markdown",
   "metadata": {},
   "source": [
    "## Instrucciones\n",
    "\n",
    "### Continuar desde la Parte III\n",
    "* Asegúrate de tener el repositorio de GitHub clonado localmente y el dataset ya limpiado y preparado desde la Parte III.\n",
    "### Análisis Descriptivo y Visualización\n",
    "* Calcula estadísticas descriptivas básicas para comprender mejor las características de los datos.\n",
    "* Utiliza histogramas y boxplots para visualizar la distribución de las variables numéricas clave.\n",
    "* Crea gráficos de líneas para mostrar las tendencias de ventas a lo largo del tiempo.\n",
    "* Utiliza gráficos de dispersión para analizar la relación entre diferentes variables.\n",
    "* Combina histogramas y boxplots para visualizar la distribución de las ventas y detectar valores atípicos.\n",
    "### Generar un Pull Request en GitHub\n",
    "* Después de completar el análisis y las visualizaciones, sube los cambios a una nueva rama en tu repositorio de GitHub y genera un Pull Request (PR) para revisión."
   ]
  },
  {
   "cell_type": "markdown",
   "metadata": {},
   "source": [
    "### Librerias y Dataset"
   ]
  },
  {
   "cell_type": "code",
   "execution_count": 30,
   "metadata": {},
   "outputs": [],
   "source": [
    "import pandas as pd\n",
    "import numpy as np\n",
    "import seaborn as sns\n",
    "import matplotlib.pyplot as plt\n",
    "import plotly.express as px\n",
    "import matplotlib.gridspec as gridspec"
   ]
  },
  {
   "cell_type": "code",
   "execution_count": 31,
   "metadata": {},
   "outputs": [
    {
     "data": {
      "text/html": [
       "<div>\n",
       "<style scoped>\n",
       "    .dataframe tbody tr th:only-of-type {\n",
       "        vertical-align: middle;\n",
       "    }\n",
       "\n",
       "    .dataframe tbody tr th {\n",
       "        vertical-align: top;\n",
       "    }\n",
       "\n",
       "    .dataframe thead th {\n",
       "        text-align: right;\n",
       "    }\n",
       "</style>\n",
       "<table border=\"1\" class=\"dataframe\">\n",
       "  <thead>\n",
       "    <tr style=\"text-align: right;\">\n",
       "      <th></th>\n",
       "      <th>Transaction ID</th>\n",
       "      <th>Date</th>\n",
       "      <th>Customer ID</th>\n",
       "      <th>Gender</th>\n",
       "      <th>Age</th>\n",
       "      <th>Product Category</th>\n",
       "      <th>Quantity</th>\n",
       "      <th>Price per Unit</th>\n",
       "      <th>Total Amount</th>\n",
       "    </tr>\n",
       "  </thead>\n",
       "  <tbody>\n",
       "    <tr>\n",
       "      <th>0</th>\n",
       "      <td>1</td>\n",
       "      <td>2023-11-24</td>\n",
       "      <td>CUST001</td>\n",
       "      <td>Male</td>\n",
       "      <td>34</td>\n",
       "      <td>Beauty</td>\n",
       "      <td>3</td>\n",
       "      <td>50</td>\n",
       "      <td>150</td>\n",
       "    </tr>\n",
       "    <tr>\n",
       "      <th>1</th>\n",
       "      <td>2</td>\n",
       "      <td>2023-02-27</td>\n",
       "      <td>CUST002</td>\n",
       "      <td>Female</td>\n",
       "      <td>26</td>\n",
       "      <td>Clothing</td>\n",
       "      <td>2</td>\n",
       "      <td>500</td>\n",
       "      <td>1000</td>\n",
       "    </tr>\n",
       "    <tr>\n",
       "      <th>2</th>\n",
       "      <td>3</td>\n",
       "      <td>2023-01-13</td>\n",
       "      <td>CUST003</td>\n",
       "      <td>Male</td>\n",
       "      <td>50</td>\n",
       "      <td>Electronics</td>\n",
       "      <td>1</td>\n",
       "      <td>30</td>\n",
       "      <td>30</td>\n",
       "    </tr>\n",
       "    <tr>\n",
       "      <th>3</th>\n",
       "      <td>4</td>\n",
       "      <td>2023-05-21</td>\n",
       "      <td>CUST004</td>\n",
       "      <td>Male</td>\n",
       "      <td>37</td>\n",
       "      <td>Clothing</td>\n",
       "      <td>1</td>\n",
       "      <td>500</td>\n",
       "      <td>500</td>\n",
       "    </tr>\n",
       "    <tr>\n",
       "      <th>4</th>\n",
       "      <td>5</td>\n",
       "      <td>2023-05-06</td>\n",
       "      <td>CUST005</td>\n",
       "      <td>Male</td>\n",
       "      <td>30</td>\n",
       "      <td>Beauty</td>\n",
       "      <td>2</td>\n",
       "      <td>50</td>\n",
       "      <td>100</td>\n",
       "    </tr>\n",
       "  </tbody>\n",
       "</table>\n",
       "</div>"
      ],
      "text/plain": [
       "   Transaction ID        Date Customer ID  Gender  Age Product Category  \\\n",
       "0               1  2023-11-24     CUST001    Male   34           Beauty   \n",
       "1               2  2023-02-27     CUST002  Female   26         Clothing   \n",
       "2               3  2023-01-13     CUST003    Male   50      Electronics   \n",
       "3               4  2023-05-21     CUST004    Male   37         Clothing   \n",
       "4               5  2023-05-06     CUST005    Male   30           Beauty   \n",
       "\n",
       "   Quantity  Price per Unit  Total Amount  \n",
       "0         3              50           150  \n",
       "1         2             500          1000  \n",
       "2         1              30            30  \n",
       "3         1             500           500  \n",
       "4         2              50           100  "
      ]
     },
     "execution_count": 31,
     "metadata": {},
     "output_type": "execute_result"
    }
   ],
   "source": [
    "path = '../data/retail_sales_dataset.csv'\n",
    "df = pd.read_csv(path, delimiter=',', header=0)\n",
    "df.head()\n"
   ]
  },
  {
   "cell_type": "markdown",
   "metadata": {},
   "source": [
    "### Calcula estadisticas descriptivas"
   ]
  },
  {
   "cell_type": "code",
   "execution_count": 32,
   "metadata": {},
   "outputs": [],
   "source": [
    "columnas_numericas = df.select_dtypes(include=['float64', 'int64']).columns #creamos una variable con las columnas numéricas"
   ]
  },
  {
   "cell_type": "code",
   "execution_count": 33,
   "metadata": {},
   "outputs": [
    {
     "name": "stdout",
     "output_type": "stream",
     "text": [
      "\n",
      "Estadísticas Descriptivas (Redondeadas a 2 decimales):\n"
     ]
    },
    {
     "data": {
      "text/html": [
       "<div>\n",
       "<style scoped>\n",
       "    .dataframe tbody tr th:only-of-type {\n",
       "        vertical-align: middle;\n",
       "    }\n",
       "\n",
       "    .dataframe tbody tr th {\n",
       "        vertical-align: top;\n",
       "    }\n",
       "\n",
       "    .dataframe thead th {\n",
       "        text-align: right;\n",
       "    }\n",
       "</style>\n",
       "<table border=\"1\" class=\"dataframe\">\n",
       "  <thead>\n",
       "    <tr style=\"text-align: right;\">\n",
       "      <th></th>\n",
       "      <th>Cuenta</th>\n",
       "      <th>Media</th>\n",
       "      <th>Mediana</th>\n",
       "      <th>Desviación Estándar</th>\n",
       "      <th>Mínimo</th>\n",
       "      <th>Máximo</th>\n",
       "      <th>25% Percentil</th>\n",
       "      <th>75% Percentil</th>\n",
       "    </tr>\n",
       "  </thead>\n",
       "  <tbody>\n",
       "    <tr>\n",
       "      <th>Transaction ID</th>\n",
       "      <td>1000.0</td>\n",
       "      <td>500.50</td>\n",
       "      <td>500.5</td>\n",
       "      <td>288.82</td>\n",
       "      <td>1.0</td>\n",
       "      <td>1000.0</td>\n",
       "      <td>250.75</td>\n",
       "      <td>750.25</td>\n",
       "    </tr>\n",
       "    <tr>\n",
       "      <th>Age</th>\n",
       "      <td>1000.0</td>\n",
       "      <td>41.39</td>\n",
       "      <td>42.0</td>\n",
       "      <td>13.68</td>\n",
       "      <td>18.0</td>\n",
       "      <td>64.0</td>\n",
       "      <td>29.00</td>\n",
       "      <td>53.00</td>\n",
       "    </tr>\n",
       "    <tr>\n",
       "      <th>Quantity</th>\n",
       "      <td>1000.0</td>\n",
       "      <td>2.51</td>\n",
       "      <td>3.0</td>\n",
       "      <td>1.13</td>\n",
       "      <td>1.0</td>\n",
       "      <td>4.0</td>\n",
       "      <td>1.00</td>\n",
       "      <td>4.00</td>\n",
       "    </tr>\n",
       "    <tr>\n",
       "      <th>Price per Unit</th>\n",
       "      <td>1000.0</td>\n",
       "      <td>179.89</td>\n",
       "      <td>50.0</td>\n",
       "      <td>189.68</td>\n",
       "      <td>25.0</td>\n",
       "      <td>500.0</td>\n",
       "      <td>30.00</td>\n",
       "      <td>300.00</td>\n",
       "    </tr>\n",
       "    <tr>\n",
       "      <th>Total Amount</th>\n",
       "      <td>1000.0</td>\n",
       "      <td>456.00</td>\n",
       "      <td>135.0</td>\n",
       "      <td>560.00</td>\n",
       "      <td>25.0</td>\n",
       "      <td>2000.0</td>\n",
       "      <td>60.00</td>\n",
       "      <td>900.00</td>\n",
       "    </tr>\n",
       "  </tbody>\n",
       "</table>\n",
       "</div>"
      ],
      "text/plain": [
       "                Cuenta   Media  Mediana  Desviación Estándar  Mínimo  Máximo  \\\n",
       "Transaction ID  1000.0  500.50    500.5               288.82     1.0  1000.0   \n",
       "Age             1000.0   41.39     42.0                13.68    18.0    64.0   \n",
       "Quantity        1000.0    2.51      3.0                 1.13     1.0     4.0   \n",
       "Price per Unit  1000.0  179.89     50.0               189.68    25.0   500.0   \n",
       "Total Amount    1000.0  456.00    135.0               560.00    25.0  2000.0   \n",
       "\n",
       "                25% Percentil  75% Percentil  \n",
       "Transaction ID         250.75         750.25  \n",
       "Age                     29.00          53.00  \n",
       "Quantity                 1.00           4.00  \n",
       "Price per Unit          30.00         300.00  \n",
       "Total Amount            60.00         900.00  "
      ]
     },
     "execution_count": 33,
     "metadata": {},
     "output_type": "execute_result"
    }
   ],
   "source": [
    "# Vamos a usar una funcion para calcular las estadisticas descriptivas de la variable con las columnas numéricas.\n",
    "def calcular_estadisticas(column, df):\n",
    "    \"\"\"\n",
    "    Calcula estadísticas descriptivas para una columna numérica,\n",
    "    omitiendo los valores nulos.\n",
    "\n",
    "    Parámetros:\n",
    "    - column (str): Nombre de la columna.\n",
    "    - data (pd.Series): Serie de pandas con los datos de la columna.\n",
    "\n",
    "    Retorna:\n",
    "    - dict: Diccionario con las estadísticas calculadas.\n",
    "    \"\"\"\n",
    "    estadisticas = {\n",
    "        'Cuenta': int(np.sum(~np.isnan(df))),\n",
    "        'Media': np.nanmean(df),\n",
    "        'Mediana': np.nanmedian(df),\n",
    "        'Desviación Estándar': np.nanstd(df, ddof=1),\n",
    "        'Mínimo': np.nanmin(df),\n",
    "        'Máximo': np.nanmax(df),\n",
    "        '25% Percentil': np.nanpercentile(df, 25),\n",
    "        '75% Percentil': np.nanpercentile(df, 75)\n",
    "    }\n",
    "    return estadisticas\n",
    "\n",
    "# Crear un diccionario para almacenar las estadísticas\n",
    "estadisticas_dict = {}\n",
    "# Iterar sobre cada columna numérica y calcular las estadísticas\n",
    "for columna in columnas_numericas:\n",
    "    datos_columna = df[columna].values\n",
    "    estadisticas = calcular_estadisticas(columna, datos_columna)\n",
    "    estadisticas_dict[columna] = estadisticas\n",
    "# Convertir el diccionario a un DataFrame para una mejor visualización\n",
    "estadisticas_df = pd.DataFrame(estadisticas_dict).T  # Transponer para que las columnas sean las filas\n",
    "estadisticas_df = estadisticas_df[['Cuenta', 'Media', 'Mediana', 'Desviación Estándar', \n",
    "                                   'Mínimo', 'Máximo', '25% Percentil', '75% Percentil']]\n",
    "# Redondear las estadísticas a 2 decimales\n",
    "estadisticas_df = estadisticas_df.round(2)\n",
    "# Mostrar el DataFrame formateado\n",
    "print(\"\\nEstadísticas Descriptivas (Redondeadas a 2 decimales):\")\n",
    "estadisticas_df"
   ]
  },
  {
   "cell_type": "markdown",
   "metadata": {},
   "source": [
    "### Utiliza Histogramas y Boxplots"
   ]
  },
  {
   "cell_type": "code",
   "execution_count": 34,
   "metadata": {},
   "outputs": [
    {
     "data": {
      "image/png": "[encoded data removed]",
      "text/plain": [
       "<Figure size 1800x600 with 3 Axes>"
      ]
     },
     "metadata": {},
     "output_type": "display_data"
    }
   ],
   "source": [
    "columns = ['Price per Unit', 'Total Amount', 'Age'] # Seleccionar las columnas que quieres graficar\n",
    "\n",
    "fig, axes = plt.subplots(nrows=1, ncols=3, figsize=(18, 6)) # Crear una figura con subplots\n",
    "\n",
    "# Iterar sobre las columnas y los ejes para crear los boxplots\n",
    "for ax, column in zip(axes, columns):\n",
    "    ax.boxplot(df[column].dropna())\n",
    "    ax.set_title(column)\n",
    "    ax.set_ylabel('Valores')\n",
    "\n",
    "plt.tight_layout()\n",
    "plt.show()\n"
   ]
  },
  {
   "cell_type": "code",
   "execution_count": 35,
   "metadata": {},
   "outputs": [
    {
     "data": {
      "application/vnd.plotly.v1+json": {
       "config": {
        "plotlyServerURL": "https://plot.ly"
       },
       "data": [
        {
         "alignmentgroup": "True",
         "hovertemplate": "Age=%{x}<br>Total Amount=%{y}<extra></extra>",
         "legendgroup": "",
         "marker": {
          "color": "#636efa"
         },
         "name": "",
         "notched": false,
         "offsetgroup": "",
         "orientation": "v",
         "showlegend": false,
         "type": "box",
         "x": [
          34,
          26,
          50,
          37,
          30,
          45,
          46,
          30,
          63,
          52,
          23,
          35,
          22,
          64,
          42,
          19,
          27,
          47,
          62,
          22,
          50,
          18,
          35,
          49,
          64,
          28,
          38,
          43,
          42,
          39,
          44,
          30,
          50,
          51,
          58,
          52,
          18,
          38,
          23,
          45,
          34,
          22,
          48,
          22,
          55,
          20,
          40,
          54,
          54,
          27,
          27,
          36,
          34,
          38,
          31,
          26,
          63,
          18,
          62,
          30,
          21,
          18,
          57,
          49,
          51,
          45,
          48,
          25,
          56,
          43,
          51,
          20,
          29,
          18,
          61,
          22,
          47,
          47,
          34,
          64,
          40,
          32,
          54,
          38,
          31,
          19,
          28,
          56,
          55,
          51,
          55,
          51,
          35,
          47,
          32,
          44,
          51,
          55,
          50,
          41,
          32,
          47,
          59,
          34,
          22,
          46,
          21,
          27,
          34,
          27,
          34,
          37,
          41,
          22,
          51,
          23,
          19,
          30,
          60,
          60,
          28,
          64,
          40,
          33,
          48,
          28,
          33,
          25,
          21,
          57,
          21,
          42,
          20,
          49,
          20,
          44,
          46,
          49,
          36,
          38,
          22,
          35,
          45,
          59,
          39,
          38,
          23,
          18,
          22,
          58,
          29,
          43,
          63,
          51,
          31,
          43,
          62,
          44,
          26,
          43,
          64,
          39,
          64,
          47,
          60,
          34,
          43,
          53,
          18,
          25,
          52,
          32,
          64,
          39,
          31,
          43,
          45,
          40,
          31,
          41,
          19,
          62,
          43,
          31,
          24,
          20,
          64,
          40,
          63,
          60,
          64,
          62,
          35,
          55,
          52,
          32,
          42,
          54,
          45,
          27,
          56,
          34,
          56,
          39,
          43,
          61,
          42,
          34,
          30,
          37,
          42,
          21,
          27,
          20,
          58,
          62,
          35,
          64,
          53,
          64,
          39,
          51,
          64,
          25,
          57,
          61,
          36,
          59,
          58,
          54,
          23,
          43,
          51,
          62,
          23,
          54,
          50,
          39,
          38,
          23,
          23,
          21,
          47,
          28,
          47,
          48,
          41,
          26,
          20,
          48,
          57,
          54,
          53,
          41,
          48,
          23,
          19,
          37,
          45,
          28,
          21,
          32,
          23,
          47,
          55,
          19,
          32,
          28,
          25,
          43,
          62,
          61,
          22,
          23,
          43,
          21,
          36,
          37,
          50,
          37,
          29,
          64,
          18,
          43,
          31,
          55,
          54,
          28,
          53,
          30,
          60,
          20,
          50,
          23,
          27,
          22,
          40,
          27,
          61,
          19,
          30,
          57,
          19,
          37,
          18,
          54,
          26,
          34,
          26,
          28,
          32,
          41,
          55,
          52,
          47,
          48,
          22,
          61,
          31,
          28,
          26,
          51,
          29,
          52,
          52,
          18,
          57,
          39,
          46,
          25,
          28,
          58,
          54,
          31,
          47,
          52,
          38,
          54,
          22,
          36,
          31,
          43,
          21,
          42,
          62,
          59,
          42,
          35,
          57,
          25,
          56,
          57,
          31,
          49,
          55,
          50,
          40,
          32,
          50,
          42,
          34,
          50,
          64,
          19,
          31,
          57,
          57,
          56,
          23,
          23,
          20,
          24,
          25,
          59,
          32,
          64,
          46,
          50,
          47,
          56,
          44,
          53,
          46,
          55,
          50,
          54,
          44,
          50,
          21,
          39,
          19,
          27,
          22,
          27,
          50,
          55,
          30,
          48,
          64,
          53,
          62,
          41,
          32,
          46,
          25,
          22,
          46,
          64,
          21,
          29,
          62,
          19,
          44,
          48,
          53,
          53,
          43,
          60,
          44,
          22,
          37,
          28,
          27,
          57,
          55,
          23,
          25,
          40,
          64,
          43,
          63,
          60,
          29,
          43,
          30,
          57,
          35,
          42,
          50,
          64,
          57,
          60,
          29,
          61,
          53,
          21,
          22,
          54,
          25,
          59,
          45,
          48,
          26,
          46,
          31,
          57,
          58,
          39,
          28,
          40,
          18,
          63,
          54,
          38,
          43,
          63,
          53,
          40,
          18,
          57,
          32,
          38,
          64,
          26,
          26,
          27,
          43,
          58,
          52,
          42,
          43,
          28,
          55,
          19,
          24,
          35,
          44,
          51,
          44,
          34,
          60,
          61,
          41,
          42,
          24,
          23,
          41,
          50,
          46,
          60,
          39,
          43,
          45,
          38,
          24,
          34,
          37,
          58,
          37,
          39,
          45,
          57,
          24,
          18,
          49,
          30,
          47,
          40,
          36,
          49,
          47,
          46,
          62,
          46,
          47,
          33,
          57,
          36,
          35,
          18,
          31,
          64,
          19,
          45,
          47,
          55,
          21,
          18,
          25,
          46,
          56,
          20,
          49,
          27,
          27,
          36,
          63,
          51,
          50,
          40,
          45,
          49,
          24,
          46,
          25,
          18,
          20,
          41,
          40,
          25,
          64,
          54,
          20,
          50,
          45,
          64,
          25,
          51,
          52,
          49,
          41,
          31,
          49,
          63,
          60,
          33,
          21,
          54,
          38,
          31,
          48,
          35,
          24,
          27,
          24,
          50,
          40,
          38,
          36,
          36,
          53,
          46,
          35,
          19,
          18,
          64,
          22,
          37,
          28,
          59,
          19,
          20,
          40,
          29,
          37,
          22,
          54,
          55,
          47,
          26,
          51,
          61,
          52,
          39,
          61,
          41,
          34,
          27,
          47,
          63,
          40,
          49,
          34,
          34,
          31,
          26,
          57,
          19,
          62,
          42,
          56,
          26,
          39,
          60,
          63,
          21,
          43,
          46,
          62,
          51,
          40,
          54,
          28,
          23,
          35,
          38,
          59,
          53,
          58,
          55,
          51,
          34,
          54,
          42,
          55,
          29,
          40,
          59,
          39,
          38,
          44,
          48,
          23,
          44,
          57,
          51,
          29,
          62,
          24,
          27,
          62,
          34,
          43,
          38,
          45,
          63,
          19,
          60,
          18,
          53,
          43,
          46,
          38,
          28,
          57,
          28,
          53,
          56,
          57,
          52,
          51,
          64,
          41,
          39,
          22,
          50,
          53,
          64,
          37,
          36,
          52,
          60,
          34,
          62,
          60,
          51,
          26,
          43,
          19,
          26,
          26,
          57,
          34,
          18,
          42,
          60,
          57,
          59,
          42,
          56,
          52,
          20,
          54,
          61,
          61,
          47,
          55,
          51,
          29,
          36,
          54,
          61,
          34,
          27,
          64,
          29,
          33,
          41,
          36,
          25,
          48,
          38,
          34,
          40,
          54,
          33,
          23,
          25,
          42,
          35,
          42,
          29,
          32,
          43,
          58,
          62,
          43,
          64,
          49,
          27,
          33,
          24,
          34,
          40,
          43,
          38,
          39,
          24,
          31,
          32,
          24,
          26,
          25,
          40,
          46,
          35,
          48,
          47,
          56,
          52,
          35,
          59,
          56,
          34,
          31,
          48,
          41,
          52,
          61,
          62,
          51,
          20,
          54,
          60,
          57,
          43,
          40,
          61,
          56,
          32,
          21,
          46,
          39,
          42,
          30,
          35,
          50,
          33,
          62,
          59,
          61,
          19,
          52,
          59,
          51,
          47,
          30,
          30,
          35,
          49,
          49,
          52,
          56,
          63,
          46,
          46,
          61,
          33,
          61,
          64,
          27,
          47,
          42,
          56,
          37,
          22,
          18,
          47,
          20,
          62,
          31,
          47,
          21,
          35,
          54,
          42,
          18,
          63,
          32,
          26,
          32,
          41,
          21,
          29,
          54,
          54,
          60,
          23,
          56,
          63,
          41,
          28,
          30,
          51,
          42,
          24,
          21,
          25,
          37,
          46,
          62,
          63,
          27,
          60,
          51,
          43,
          58,
          20,
          23,
          22,
          22,
          64,
          40,
          26,
          52,
          37,
          59,
          52,
          35,
          34,
          41,
          20,
          49,
          52,
          55,
          30,
          64,
          42,
          26,
          21,
          31,
          54,
          51,
          28,
          58,
          20,
          45,
          46,
          26,
          20,
          42,
          51,
          29,
          59,
          26,
          32,
          57,
          42,
          22,
          28,
          51,
          41,
          32,
          55,
          25,
          22,
          43,
          35,
          23,
          54,
          30,
          45,
          22,
          30,
          34,
          57,
          62,
          49,
          46,
          20,
          57,
          51,
          57,
          44,
          30,
          62,
          50,
          23,
          41,
          36,
          33,
          57,
          45,
          50,
          58,
          30,
          60,
          62,
          42,
          59,
          53,
          44,
          55,
          24,
          22,
          60,
          62,
          48,
          40,
          59,
          27,
          49,
          60,
          47,
          56,
          48,
          35,
          53,
          19,
          31,
          30,
          46,
          29,
          56,
          19,
          49,
          30,
          63,
          44,
          58,
          34,
          57,
          48,
          51,
          41,
          62,
          52,
          23,
          36,
          47
         ],
         "x0": " ",
         "xaxis": "x",
         "y": [
          150,
          1000,
          30,
          500,
          100,
          30,
          50,
          100,
          600,
          200,
          100,
          75,
          1500,
          120,
          2000,
          1500,
          100,
          50,
          50,
          900,
          500,
          100,
          120,
          300,
          50,
          1000,
          50,
          500,
          30,
          900,
          1200,
          90,
          100,
          150,
          900,
          900,
          75,
          200,
          120,
          50,
          50,
          900,
          300,
          25,
          30,
          1200,
          1500,
          900,
          1000,
          75,
          75,
          300,
          100,
          1500,
          120,
          900,
          30,
          1200,
          50,
          150,
          200,
          100,
          50,
          100,
          2000,
          30,
          1200,
          300,
          75,
          300,
          100,
          2000,
          90,
          2000,
          200,
          100,
          100,
          1500,
          300,
          60,
          50,
          200,
          100,
          90,
          150,
          90,
          100,
          500,
          2000,
          30,
          500,
          120,
          2000,
          1000,
          60,
          600,
          1000,
          100,
          1200,
          30,
          600,
          50,
          25,
          1000,
          500,
          50,
          1200,
          75,
          2000,
          900,
          1500,
          1500,
          50,
          100,
          1500,
          30,
          1000,
          2000,
          150,
          50,
          200,
          120,
          60,
          2000,
          100,
          90,
          50,
          500,
          600,
          500,
          600,
          200,
          900,
          50,
          50,
          600,
          1000,
          200,
          2000,
          30,
          50,
          1200,
          50,
          1500,
          75,
          200,
          300,
          60,
          75,
          120,
          50,
          2000,
          1000,
          900,
          2000,
          100,
          2000,
          600,
          200,
          100,
          1000,
          60,
          150,
          1500,
          1200,
          2000,
          150,
          300,
          1500,
          50,
          900,
          50,
          120,
          300,
          100,
          100,
          100,
          60,
          300,
          900,
          1200,
          120,
          900,
          200,
          25,
          200,
          100,
          75,
          50,
          90,
          25,
          100,
          1500,
          200,
          30,
          900,
          200,
          900,
          1500,
          150,
          25,
          1200,
          1000,
          25,
          25,
          25,
          50,
          200,
          200,
          200,
          1500,
          1500,
          1500,
          60,
          1500,
          100,
          200,
          90,
          90,
          500,
          600,
          120,
          25,
          50,
          100,
          50,
          100,
          60,
          90,
          25,
          150,
          25,
          600,
          50,
          1000,
          25,
          1000,
          500,
          1500,
          300,
          75,
          25,
          900,
          100,
          90,
          50,
          60,
          900,
          50,
          50,
          200,
          300,
          2000,
          500,
          30,
          1000,
          2000,
          50,
          200,
          60,
          50,
          120,
          60,
          900,
          900,
          60,
          90,
          30,
          2000,
          300,
          120,
          100,
          50,
          1000,
          1000,
          100,
          100,
          100,
          500,
          1500,
          2000,
          200,
          500,
          200,
          25,
          50,
          100,
          120,
          60,
          600,
          600,
          1200,
          90,
          90,
          900,
          1200,
          1000,
          1200,
          1000,
          200,
          120,
          600,
          90,
          60,
          30,
          50,
          50,
          1200,
          25,
          25,
          100,
          120,
          1500,
          120,
          60,
          50,
          90,
          25,
          500,
          1200,
          50,
          500,
          900,
          150,
          50,
          75,
          150,
          100,
          100,
          200,
          90,
          1200,
          1200,
          900,
          120,
          150,
          500,
          100,
          50,
          1200,
          200,
          2000,
          50,
          30,
          30,
          1000,
          25,
          600,
          50,
          75,
          90,
          1000,
          500,
          200,
          500,
          1500,
          75,
          300,
          50,
          100,
          1200,
          25,
          25,
          500,
          300,
          100,
          50,
          1200,
          1500,
          60,
          25,
          1500,
          600,
          75,
          50,
          30,
          200,
          300,
          25,
          600,
          100,
          1000,
          90,
          500,
          1500,
          600,
          30,
          25,
          50,
          100,
          50,
          600,
          1000,
          500,
          1000,
          30,
          25,
          600,
          60,
          200,
          300,
          600,
          600,
          1000,
          1200,
          100,
          900,
          500,
          900,
          100,
          200,
          2000,
          75,
          100,
          60,
          2000,
          900,
          1000,
          90,
          2000,
          1500,
          90,
          25,
          1200,
          120,
          150,
          25,
          200,
          50,
          900,
          1200,
          1000,
          200,
          50,
          900,
          120,
          1200,
          30,
          75,
          600,
          1200,
          100,
          600,
          90,
          300,
          50,
          2000,
          60,
          200,
          50,
          30,
          1500,
          1000,
          25,
          100,
          60,
          900,
          100,
          1200,
          50,
          1000,
          1200,
          1500,
          600,
          150,
          100,
          150,
          25,
          75,
          1000,
          150,
          900,
          50,
          1500,
          75,
          2000,
          120,
          60,
          1200,
          2000,
          1200,
          1200,
          30,
          1200,
          30,
          25,
          2000,
          900,
          30,
          150,
          900,
          100,
          50,
          200,
          60,
          600,
          120,
          100,
          60,
          100,
          60,
          150,
          2000,
          150,
          50,
          1500,
          1500,
          600,
          900,
          200,
          100,
          25,
          100,
          300,
          900,
          100,
          100,
          30,
          120,
          100,
          120,
          1500,
          300,
          1200,
          50,
          100,
          50,
          60,
          150,
          120,
          500,
          120,
          1500,
          1000,
          90,
          120,
          500,
          150,
          500,
          900,
          500,
          50,
          600,
          25,
          50,
          200,
          2000,
          60,
          100,
          900,
          900,
          75,
          1200,
          150,
          300,
          50,
          90,
          25,
          1200,
          50,
          2000,
          50,
          60,
          100,
          60,
          30,
          900,
          300,
          200,
          500,
          50,
          2000,
          60,
          50,
          100,
          150,
          2000,
          120,
          30,
          1500,
          60,
          900,
          100,
          200,
          25,
          50,
          1200,
          60,
          1000,
          900,
          100,
          2000,
          60,
          600,
          2000,
          300,
          1200,
          120,
          100,
          1000,
          30,
          300,
          90,
          200,
          1000,
          50,
          75,
          1500,
          100,
          600,
          1500,
          500,
          90,
          1200,
          100,
          100,
          30,
          50,
          100,
          75,
          1000,
          75,
          150,
          900,
          300,
          2000,
          50,
          200,
          50,
          100,
          90,
          100,
          120,
          2000,
          900,
          1500,
          600,
          500,
          200,
          120,
          300,
          100,
          90,
          75,
          120,
          90,
          1500,
          1200,
          600,
          30,
          150,
          100,
          75,
          75,
          500,
          90,
          25,
          25,
          30,
          1000,
          100,
          1000,
          1200,
          2000,
          50,
          150,
          500,
          150,
          1200,
          30,
          150,
          100,
          1500,
          300,
          60,
          1500,
          1500,
          900,
          90,
          900,
          60,
          1200,
          1000,
          1000,
          50,
          200,
          300,
          100,
          100,
          900,
          90,
          100,
          1500,
          50,
          150,
          200,
          500,
          300,
          120,
          2000,
          60,
          600,
          100,
          90,
          50,
          100,
          500,
          900,
          1000,
          1500,
          1500,
          50,
          75,
          500,
          100,
          1200,
          500,
          75,
          60,
          1500,
          500,
          900,
          200,
          150,
          300,
          1200,
          900,
          150,
          1200,
          50,
          2000,
          1000,
          30,
          30,
          2000,
          100,
          50,
          100,
          25,
          200,
          300,
          2000,
          2000,
          25,
          100,
          90,
          30,
          150,
          30,
          75,
          50,
          100,
          30,
          100,
          75,
          1200,
          1200,
          100,
          100,
          500,
          500,
          50,
          50,
          25,
          200,
          900,
          75,
          75,
          120,
          50,
          50,
          30,
          2000,
          50,
          100,
          90,
          150,
          100,
          1000,
          50,
          500,
          900,
          300,
          500,
          200,
          100,
          25,
          900,
          2000,
          25,
          25,
          50,
          30,
          300,
          300,
          120,
          75,
          50,
          100,
          1200,
          200,
          30,
          100,
          30,
          1500,
          900,
          200,
          2000,
          100,
          100,
          50,
          75,
          150,
          500,
          75,
          1000,
          200,
          500,
          100,
          200,
          300,
          150,
          100,
          120,
          25,
          300,
          900,
          1200,
          90,
          150,
          100,
          2000,
          200,
          60,
          200,
          50,
          90,
          600,
          1200,
          50,
          100,
          600,
          1500,
          150,
          500,
          50,
          1200,
          75,
          50,
          1000,
          50,
          300,
          1000,
          50,
          25,
          120,
          50,
          100,
          1500,
          200,
          90,
          1200,
          50,
          500,
          300,
          50,
          500,
          300,
          1500,
          120,
          60,
          75,
          100,
          30,
          2000,
          120,
          25,
          30,
          30,
          1000,
          300,
          50,
          500,
          60,
          120,
          900,
          100,
          100,
          50,
          50,
          900,
          50,
          50,
          30,
          120,
          50,
          100,
          90,
          600,
          60,
          30,
          50,
          200,
          500,
          300,
          50,
          25,
          1200,
          300,
          150,
          900,
          150,
          90,
          500,
          90,
          50,
          200,
          90,
          50,
          75,
          75,
          50,
          900,
          100,
          300,
          30,
          2000,
          1200,
          75,
          200,
          120,
          100,
          30,
          500,
          50,
          200,
          500,
          200,
          300,
          30,
          50,
          1500,
          1200,
          50,
          25,
          2000,
          300,
          75,
          50,
          900,
          100,
          25,
          90,
          900,
          25,
          1500,
          120,
          50,
          60,
          60,
          200,
          60,
          50,
          900,
          200,
          1000,
          25,
          900,
          900,
          2000,
          200,
          100,
          50,
          30,
          200,
          600,
          75,
          150,
          25,
          75,
          60,
          90,
          300,
          500,
          50,
          1000,
          900,
          75,
          25,
          1000,
          100,
          60,
          150,
          1000,
          30,
          50,
          90,
          100,
          150,
          120
         ],
         "y0": " ",
         "yaxis": "y"
        }
       ],
       "layout": {
        "boxmode": "group",
        "legend": {
         "tracegroupgap": 0
        },
        "template": {
         "data": {
          "bar": [
           {
            "error_x": {
             "color": "#2a3f5f"
            },
            "error_y": {
             "color": "#2a3f5f"
            },
            "marker": {
             "line": {
              "color": "#E5ECF6",
              "width": 0.5
             },
             "pattern": {
              "fillmode": "overlay",
              "size": 10,
              "solidity": 0.2
             }
            },
            "type": "bar"
           }
          ],
          "barpolar": [
           {
            "marker": {
             "line": {
              "color": "#E5ECF6",
              "width": 0.5
             },
             "pattern": {
              "fillmode": "overlay",
              "size": 10,
              "solidity": 0.2
             }
            },
            "type": "barpolar"
           }
          ],
          "carpet": [
           {
            "aaxis": {
             "endlinecolor": "#2a3f5f",
             "gridcolor": "white",
             "linecolor": "white",
             "minorgridcolor": "white",
             "startlinecolor": "#2a3f5f"
            },
            "baxis": {
             "endlinecolor": "#2a3f5f",
             "gridcolor": "white",
             "linecolor": "white",
             "minorgridcolor": "white",
             "startlinecolor": "#2a3f5f"
            },
            "type": "carpet"
           }
          ],
          "choropleth": [
           {
            "colorbar": {
             "outlinewidth": 0,
             "ticks": ""
            },
            "type": "choropleth"
           }
          ],
          "contour": [
           {
            "colorbar": {
             "outlinewidth": 0,
             "ticks": ""
            },
            "colorscale": [
             [
              0,
              "#0d0887"
             ],
             [
              0.1111111111111111,
              "#46039f"
             ],
             [
              0.2222222222222222,
              "#7201a8"
             ],
             [
              0.3333333333333333,
              "#9c179e"
             ],
             [
              0.4444444444444444,
              "#bd3786"
             ],
             [
              0.5555555555555556,
              "#d8576b"
             ],
             [
              0.6666666666666666,
              "#ed7953"
             ],
             [
              0.7777777777777778,
              "#fb9f3a"
             ],
             [
              0.8888888888888888,
              "#fdca26"
             ],
             [
              1,
              "#f0f921"
             ]
            ],
            "type": "contour"
           }
          ],
          "contourcarpet": [
           {
            "colorbar": {
             "outlinewidth": 0,
             "ticks": ""
            },
            "type": "contourcarpet"
           }
          ],
          "heatmap": [
           {
            "colorbar": {
             "outlinewidth": 0,
             "ticks": ""
            },
            "colorscale": [
             [
              0,
              "#0d0887"
             ],
             [
              0.1111111111111111,
              "#46039f"
             ],
             [
              0.2222222222222222,
              "#7201a8"
             ],
             [
              0.3333333333333333,
              "#9c179e"
             ],
             [
              0.4444444444444444,
              "#bd3786"
             ],
             [
              0.5555555555555556,
              "#d8576b"
             ],
             [
              0.6666666666666666,
              "#ed7953"
             ],
             [
              0.7777777777777778,
              "#fb9f3a"
             ],
             [
              0.8888888888888888,
              "#fdca26"
             ],
             [
              1,
              "#f0f921"
             ]
            ],
            "type": "heatmap"
           }
          ],
          "heatmapgl": [
           {
            "colorbar": {
             "outlinewidth": 0,
             "ticks": ""
            },
            "colorscale": [
             [
              0,
              "#0d0887"
             ],
             [
              0.1111111111111111,
              "#46039f"
             ],
             [
              0.2222222222222222,
              "#7201a8"
             ],
             [
              0.3333333333333333,
              "#9c179e"
             ],
             [
              0.4444444444444444,
              "#bd3786"
             ],
             [
              0.5555555555555556,
              "#d8576b"
             ],
             [
              0.6666666666666666,
              "#ed7953"
             ],
             [
              0.7777777777777778,
              "#fb9f3a"
             ],
             [
              0.8888888888888888,
              "#fdca26"
             ],
             [
              1,
              "#f0f921"
             ]
            ],
            "type": "heatmapgl"
           }
          ],
          "histogram": [
           {
            "marker": {
             "pattern": {
              "fillmode": "overlay",
              "size": 10,
              "solidity": 0.2
             }
            },
            "type": "histogram"
           }
          ],
          "histogram2d": [
           {
            "colorbar": {
             "outlinewidth": 0,
             "ticks": ""
            },
            "colorscale": [
             [
              0,
              "#0d0887"
             ],
             [
              0.1111111111111111,
              "#46039f"
             ],
             [
              0.2222222222222222,
              "#7201a8"
             ],
             [
              0.3333333333333333,
              "#9c179e"
             ],
             [
              0.4444444444444444,
              "#bd3786"
             ],
             [
              0.5555555555555556,
              "#d8576b"
             ],
             [
              0.6666666666666666,
              "#ed7953"
             ],
             [
              0.7777777777777778,
              "#fb9f3a"
             ],
             [
              0.8888888888888888,
              "#fdca26"
             ],
             [
              1,
              "#f0f921"
             ]
            ],
            "type": "histogram2d"
           }
          ],
          "histogram2dcontour": [
           {
            "colorbar": {
             "outlinewidth": 0,
             "ticks": ""
            },
            "colorscale": [
             [
              0,
              "#0d0887"
             ],
             [
              0.1111111111111111,
              "#46039f"
             ],
             [
              0.2222222222222222,
              "#7201a8"
             ],
             [
              0.3333333333333333,
              "#9c179e"
             ],
             [
              0.4444444444444444,
              "#bd3786"
             ],
             [
              0.5555555555555556,
              "#d8576b"
             ],
             [
              0.6666666666666666,
              "#ed7953"
             ],
             [
              0.7777777777777778,
              "#fb9f3a"
             ],
             [
              0.8888888888888888,
              "#fdca26"
             ],
             [
              1,
              "#f0f921"
             ]
            ],
            "type": "histogram2dcontour"
           }
          ],
          "mesh3d": [
           {
            "colorbar": {
             "outlinewidth": 0,
             "ticks": ""
            },
            "type": "mesh3d"
           }
          ],
          "parcoords": [
           {
            "line": {
             "colorbar": {
              "outlinewidth": 0,
              "ticks": ""
             }
            },
            "type": "parcoords"
           }
          ],
          "pie": [
           {
            "automargin": true,
            "type": "pie"
           }
          ],
          "scatter": [
           {
            "fillpattern": {
             "fillmode": "overlay",
             "size": 10,
             "solidity": 0.2
            },
            "type": "scatter"
           }
          ],
          "scatter3d": [
           {
            "line": {
             "colorbar": {
              "outlinewidth": 0,
              "ticks": ""
             }
            },
            "marker": {
             "colorbar": {
              "outlinewidth": 0,
              "ticks": ""
             }
            },
            "type": "scatter3d"
           }
          ],
          "scattercarpet": [
           {
            "marker": {
             "colorbar": {
              "outlinewidth": 0,
              "ticks": ""
             }
            },
            "type": "scattercarpet"
           }
          ],
          "scattergeo": [
           {
            "marker": {
             "colorbar": {
              "outlinewidth": 0,
              "ticks": ""
             }
            },
            "type": "scattergeo"
           }
          ],
          "scattergl": [
           {
            "marker": {
             "colorbar": {
              "outlinewidth": 0,
              "ticks": ""
             }
            },
            "type": "scattergl"
           }
          ],
          "scattermapbox": [
           {
            "marker": {
             "colorbar": {
              "outlinewidth": 0,
              "ticks": ""
             }
            },
            "type": "scattermapbox"
           }
          ],
          "scatterpolar": [
           {
            "marker": {
             "colorbar": {
              "outlinewidth": 0,
              "ticks": ""
             }
            },
            "type": "scatterpolar"
           }
          ],
          "scatterpolargl": [
           {
            "marker": {
             "colorbar": {
              "outlinewidth": 0,
              "ticks": ""
             }
            },
            "type": "scatterpolargl"
           }
          ],
          "scatterternary": [
           {
            "marker": {
             "colorbar": {
              "outlinewidth": 0,
              "ticks": ""
             }
            },
            "type": "scatterternary"
           }
          ],
          "surface": [
           {
            "colorbar": {
             "outlinewidth": 0,
             "ticks": ""
            },
            "colorscale": [
             [
              0,
              "#0d0887"
             ],
             [
              0.1111111111111111,
              "#46039f"
             ],
             [
              0.2222222222222222,
              "#7201a8"
             ],
             [
              0.3333333333333333,
              "#9c179e"
             ],
             [
              0.4444444444444444,
              "#bd3786"
             ],
             [
              0.5555555555555556,
              "#d8576b"
             ],
             [
              0.6666666666666666,
              "#ed7953"
             ],
             [
              0.7777777777777778,
              "#fb9f3a"
             ],
             [
              0.8888888888888888,
              "#fdca26"
             ],
             [
              1,
              "#f0f921"
             ]
            ],
            "type": "surface"
           }
          ],
          "table": [
           {
            "cells": {
             "fill": {
              "color": "#EBF0F8"
             },
             "line": {
              "color": "white"
             }
            },
            "header": {
             "fill": {
              "color": "#C8D4E3"
             },
             "line": {
              "color": "white"
             }
            },
            "type": "table"
           }
          ]
         },
         "layout": {
          "annotationdefaults": {
           "arrowcolor": "#2a3f5f",
           "arrowhead": 0,
           "arrowwidth": 1
          },
          "autotypenumbers": "strict",
          "coloraxis": {
           "colorbar": {
            "outlinewidth": 0,
            "ticks": ""
           }
          },
          "colorscale": {
           "diverging": [
            [
             0,
             "#8e0152"
            ],
            [
             0.1,
             "#c51b7d"
            ],
            [
             0.2,
             "#de77ae"
            ],
            [
             0.3,
             "#f1b6da"
            ],
            [
             0.4,
             "#fde0ef"
            ],
            [
             0.5,
             "#f7f7f7"
            ],
            [
             0.6,
             "#e6f5d0"
            ],
            [
             0.7,
             "#b8e186"
            ],
            [
             0.8,
             "#7fbc41"
            ],
            [
             0.9,
             "#4d9221"
            ],
            [
             1,
             "#276419"
            ]
           ],
           "sequential": [
            [
             0,
             "#0d0887"
            ],
            [
             0.1111111111111111,
             "#46039f"
            ],
            [
             0.2222222222222222,
             "#7201a8"
            ],
            [
             0.3333333333333333,
             "#9c179e"
            ],
            [
             0.4444444444444444,
             "#bd3786"
            ],
            [
             0.5555555555555556,
             "#d8576b"
            ],
            [
             0.6666666666666666,
             "#ed7953"
            ],
            [
             0.7777777777777778,
             "#fb9f3a"
            ],
            [
             0.8888888888888888,
             "#fdca26"
            ],
            [
             1,
             "#f0f921"
            ]
           ],
           "sequentialminus": [
            [
             0,
             "#0d0887"
            ],
            [
             0.1111111111111111,
             "#46039f"
            ],
            [
             0.2222222222222222,
             "#7201a8"
            ],
            [
             0.3333333333333333,
             "#9c179e"
            ],
            [
             0.4444444444444444,
             "#bd3786"
            ],
            [
             0.5555555555555556,
             "#d8576b"
            ],
            [
             0.6666666666666666,
             "#ed7953"
            ],
            [
             0.7777777777777778,
             "#fb9f3a"
            ],
            [
             0.8888888888888888,
             "#fdca26"
            ],
            [
             1,
             "#f0f921"
            ]
           ]
          },
          "colorway": [
           "#636efa",
           "#EF553B",
           "#00cc96",
           "#ab63fa",
           "#FFA15A",
           "#19d3f3",
           "#FF6692",
           "#B6E880",
           "#FF97FF",
           "#FECB52"
          ],
          "font": {
           "color": "#2a3f5f"
          },
          "geo": {
           "bgcolor": "white",
           "lakecolor": "white",
           "landcolor": "#E5ECF6",
           "showlakes": true,
           "showland": true,
           "subunitcolor": "white"
          },
          "hoverlabel": {
           "align": "left"
          },
          "hovermode": "closest",
          "mapbox": {
           "style": "light"
          },
          "paper_bgcolor": "white",
          "plot_bgcolor": "#E5ECF6",
          "polar": {
           "angularaxis": {
            "gridcolor": "white",
            "linecolor": "white",
            "ticks": ""
           },
           "bgcolor": "#E5ECF6",
           "radialaxis": {
            "gridcolor": "white",
            "linecolor": "white",
            "ticks": ""
           }
          },
          "scene": {
           "xaxis": {
            "backgroundcolor": "#E5ECF6",
            "gridcolor": "white",
            "gridwidth": 2,
            "linecolor": "white",
            "showbackground": true,
            "ticks": "",
            "zerolinecolor": "white"
           },
           "yaxis": {
            "backgroundcolor": "#E5ECF6",
            "gridcolor": "white",
            "gridwidth": 2,
            "linecolor": "white",
            "showbackground": true,
            "ticks": "",
            "zerolinecolor": "white"
           },
           "zaxis": {
            "backgroundcolor": "#E5ECF6",
            "gridcolor": "white",
            "gridwidth": 2,
            "linecolor": "white",
            "showbackground": true,
            "ticks": "",
            "zerolinecolor": "white"
           }
          },
          "shapedefaults": {
           "line": {
            "color": "#2a3f5f"
           }
          },
          "ternary": {
           "aaxis": {
            "gridcolor": "white",
            "linecolor": "white",
            "ticks": ""
           },
           "baxis": {
            "gridcolor": "white",
            "linecolor": "white",
            "ticks": ""
           },
           "bgcolor": "#E5ECF6",
           "caxis": {
            "gridcolor": "white",
            "linecolor": "white",
            "ticks": ""
           }
          },
          "title": {
           "x": 0.05
          },
          "xaxis": {
           "automargin": true,
           "gridcolor": "white",
           "linecolor": "white",
           "ticks": "",
           "title": {
            "standoff": 15
           },
           "zerolinecolor": "white",
           "zerolinewidth": 2
          },
          "yaxis": {
           "automargin": true,
           "gridcolor": "white",
           "linecolor": "white",
           "ticks": "",
           "title": {
            "standoff": 15
           },
           "zerolinecolor": "white",
           "zerolinewidth": 2
          }
         }
        },
        "title": {
         "text": "Boxplot de Salarios por Nivel de Experiencia"
        },
        "xaxis": {
         "anchor": "y",
         "domain": [
          0,
          1
         ],
         "title": {
          "text": "Age"
         }
        },
        "yaxis": {
         "anchor": "x",
         "domain": [
          0,
          1
         ],
         "title": {
          "text": "Total Amount"
         }
        }
       }
      }
     },
     "metadata": {},
     "output_type": "display_data"
    }
   ],
   "source": [
    "# Este code es para crear el boxplot en la libreria plotly\n",
    "fig = px.box(df, x='Age', y='Total Amount', title='Boxplot de Salarios por Nivel de Experiencia')\n",
    "fig.show()"
   ]
  },
  {
   "cell_type": "code",
   "execution_count": 36,
   "metadata": {},
   "outputs": [
    {
     "data": {
      "image/png": "[encoded data removed]",
      "text/plain": [
       "<Figure size 1000x600 with 1 Axes>"
      ]
     },
     "metadata": {},
     "output_type": "display_data"
    }
   ],
   "source": [
    "plt.figure(figsize=(10, 6))\n",
    "sns.boxplot(x='Age', y='Total Amount', data=df)\n",
    "plt.title('Boxplot de Salarios por Nivel de Experiencia')\n",
    "plt.tight_layout()\n",
    "plt.show()"
   ]
  },
  {
   "cell_type": "code",
   "execution_count": 37,
   "metadata": {},
   "outputs": [
    {
     "name": "stderr",
     "output_type": "stream",
     "text": [
      "C:\\Users\\guill\\AppData\\Local\\Temp\\ipykernel_5712\\3362038041.py:6: FutureWarning:\n",
      "\n",
      "\n",
      "\n",
      "Passing `palette` without assigning `hue` is deprecated and will be removed in v0.14.0. Assign the `x` variable to `hue` and set `legend=False` for the same effect.\n",
      "\n",
      "\n"
     ]
    },
    {
     "data": {
      "image/png": "[encoded data removed]",
      "text/plain": [
       "<Figure size 1400x800 with 1 Axes>"
      ]
     },
     "metadata": {},
     "output_type": "display_data"
    }
   ],
   "source": [
    "# Filtrar filas sin valores nulos en las columnas relevantes\n",
    "df_box_numerics = df[['Age', 'Quantity', 'Price per Unit', 'Total Amount']].dropna()\n",
    "# Configurar el tamaño del gráfico\n",
    "plt.figure(figsize=(14, 8))\n",
    "# Crear el boxplot usando seaborn\n",
    "sns.boxplot(x='Total Amount', y='Age', data=df_box_numerics, palette='Pastel1')\n",
    "\n",
    "\n",
    "plt.title('Boxplot de Total Amount por Age', fontsize=16)\n",
    "plt.xlabel('Total Amount', fontsize=14)\n",
    "plt.ylabel('Age', fontsize=14)\n",
    "plt.xticks(rotation=45)\n",
    "plt.tight_layout()\n",
    "plt.show()"
   ]
  },
  {
   "cell_type": "code",
   "execution_count": 38,
   "metadata": {},
   "outputs": [
    {
     "data": {
      "image/png": "[encoded data removed]",
      "text/plain": [
       "<Figure size 1000x600 with 1 Axes>"
      ]
     },
     "metadata": {},
     "output_type": "display_data"
    }
   ],
   "source": [
    "plt.figure(figsize=(10, 6))\n",
    "sns.histplot(data=df, x='Product Category')\n",
    "plt.title('Histograma de productos')\n",
    "plt.xticks(rotation=45, ha='right')\n",
    "plt.show()"
   ]
  },
  {
   "cell_type": "code",
   "execution_count": 39,
   "metadata": {},
   "outputs": [
    {
     "data": {
      "application/vnd.plotly.v1+json": {
       "config": {
        "plotlyServerURL": "https://plot.ly"
       },
       "data": [
        {
         "alignmentgroup": "True",
         "bingroup": "x",
         "hovertemplate": "Product Category=%{x}<br>count=%{y}<extra></extra>",
         "legendgroup": "",
         "marker": {
          "color": "#636efa",
          "pattern": {
           "shape": ""
          }
         },
         "name": "",
         "nbinsx": 10,
         "offsetgroup": "",
         "orientation": "v",
         "showlegend": false,
         "type": "histogram",
         "x": [
          "Beauty",
          "Clothing",
          "Electronics",
          "Clothing",
          "Beauty",
          "Beauty",
          "Clothing",
          "Electronics",
          "Electronics",
          "Clothing",
          "Clothing",
          "Beauty",
          "Electronics",
          "Clothing",
          "Electronics",
          "Clothing",
          "Clothing",
          "Electronics",
          "Clothing",
          "Clothing",
          "Beauty",
          "Clothing",
          "Clothing",
          "Clothing",
          "Beauty",
          "Electronics",
          "Beauty",
          "Beauty",
          "Electronics",
          "Beauty",
          "Electronics",
          "Beauty",
          "Electronics",
          "Clothing",
          "Beauty",
          "Beauty",
          "Beauty",
          "Beauty",
          "Clothing",
          "Beauty",
          "Clothing",
          "Clothing",
          "Clothing",
          "Clothing",
          "Electronics",
          "Electronics",
          "Beauty",
          "Electronics",
          "Electronics",
          "Beauty",
          "Beauty",
          "Beauty",
          "Electronics",
          "Electronics",
          "Beauty",
          "Clothing",
          "Beauty",
          "Clothing",
          "Clothing",
          "Beauty",
          "Beauty",
          "Beauty",
          "Electronics",
          "Clothing",
          "Electronics",
          "Electronics",
          "Beauty",
          "Electronics",
          "Beauty",
          "Clothing",
          "Beauty",
          "Electronics",
          "Electronics",
          "Beauty",
          "Beauty",
          "Electronics",
          "Clothing",
          "Clothing",
          "Beauty",
          "Clothing",
          "Electronics",
          "Beauty",
          "Electronics",
          "Electronics",
          "Clothing",
          "Beauty",
          "Beauty",
          "Clothing",
          "Electronics",
          "Electronics",
          "Electronics",
          "Electronics",
          "Beauty",
          "Beauty",
          "Clothing",
          "Clothing",
          "Beauty",
          "Beauty",
          "Electronics",
          "Electronics",
          "Clothing",
          "Beauty",
          "Clothing",
          "Beauty",
          "Electronics",
          "Clothing",
          "Clothing",
          "Beauty",
          "Electronics",
          "Clothing",
          "Electronics",
          "Clothing",
          "Electronics",
          "Beauty",
          "Clothing",
          "Clothing",
          "Electronics",
          "Electronics",
          "Clothing",
          "Beauty",
          "Electronics",
          "Electronics",
          "Electronics",
          "Clothing",
          "Clothing",
          "Clothing",
          "Clothing",
          "Beauty",
          "Beauty",
          "Clothing",
          "Beauty",
          "Electronics",
          "Electronics",
          "Electronics",
          "Clothing",
          "Electronics",
          "Beauty",
          "Clothing",
          "Beauty",
          "Electronics",
          "Electronics",
          "Electronics",
          "Clothing",
          "Beauty",
          "Clothing",
          "Clothing",
          "Electronics",
          "Clothing",
          "Clothing",
          "Electronics",
          "Clothing",
          "Electronics",
          "Electronics",
          "Electronics",
          "Electronics",
          "Clothing",
          "Electronics",
          "Electronics",
          "Clothing",
          "Clothing",
          "Beauty",
          "Clothing",
          "Clothing",
          "Beauty",
          "Clothing",
          "Clothing",
          "Clothing",
          "Clothing",
          "Beauty",
          "Clothing",
          "Clothing",
          "Beauty",
          "Electronics",
          "Beauty",
          "Electronics",
          "Beauty",
          "Beauty",
          "Clothing",
          "Electronics",
          "Clothing",
          "Electronics",
          "Beauty",
          "Beauty",
          "Electronics",
          "Clothing",
          "Clothing",
          "Clothing",
          "Clothing",
          "Beauty",
          "Beauty",
          "Beauty",
          "Beauty",
          "Beauty",
          "Clothing",
          "Clothing",
          "Clothing",
          "Clothing",
          "Beauty",
          "Beauty",
          "Beauty",
          "Electronics",
          "Clothing",
          "Clothing",
          "Beauty",
          "Clothing",
          "Clothing",
          "Beauty",
          "Electronics",
          "Electronics",
          "Electronics",
          "Beauty",
          "Clothing",
          "Beauty",
          "Beauty",
          "Clothing",
          "Electronics",
          "Electronics",
          "Beauty",
          "Electronics",
          "Beauty",
          "Beauty",
          "Clothing",
          "Clothing",
          "Clothing",
          "Beauty",
          "Clothing",
          "Electronics",
          "Electronics",
          "Beauty",
          "Beauty",
          "Clothing",
          "Beauty",
          "Beauty",
          "Electronics",
          "Electronics",
          "Clothing",
          "Beauty",
          "Beauty",
          "Electronics",
          "Beauty",
          "Electronics",
          "Clothing",
          "Electronics",
          "Beauty",
          "Clothing",
          "Electronics",
          "Electronics",
          "Clothing",
          "Clothing",
          "Electronics",
          "Beauty",
          "Electronics",
          "Clothing",
          "Electronics",
          "Clothing",
          "Clothing",
          "Beauty",
          "Clothing",
          "Clothing",
          "Beauty",
          "Clothing",
          "Beauty",
          "Beauty",
          "Clothing",
          "Clothing",
          "Electronics",
          "Beauty",
          "Electronics",
          "Clothing",
          "Electronics",
          "Beauty",
          "Electronics",
          "Beauty",
          "Clothing",
          "Clothing",
          "Beauty",
          "Clothing",
          "Clothing",
          "Clothing",
          "Clothing",
          "Beauty",
          "Electronics",
          "Electronics",
          "Clothing",
          "Electronics",
          "Electronics",
          "Clothing",
          "Clothing",
          "Electronics",
          "Beauty",
          "Clothing",
          "Beauty",
          "Electronics",
          "Clothing",
          "Beauty",
          "Clothing",
          "Electronics",
          "Beauty",
          "Electronics",
          "Electronics",
          "Clothing",
          "Beauty",
          "Electronics",
          "Electronics",
          "Beauty",
          "Electronics",
          "Electronics",
          "Beauty",
          "Beauty",
          "Beauty",
          "Beauty",
          "Clothing",
          "Beauty",
          "Clothing",
          "Clothing",
          "Clothing",
          "Electronics",
          "Clothing",
          "Clothing",
          "Electronics",
          "Electronics",
          "Electronics",
          "Beauty",
          "Electronics",
          "Electronics",
          "Clothing",
          "Electronics",
          "Beauty",
          "Electronics",
          "Beauty",
          "Electronics",
          "Electronics",
          "Electronics",
          "Electronics",
          "Beauty",
          "Beauty",
          "Clothing",
          "Beauty",
          "Electronics",
          "Clothing",
          "Clothing",
          "Clothing",
          "Electronics",
          "Beauty",
          "Electronics",
          "Clothing",
          "Electronics",
          "Electronics",
          "Beauty",
          "Beauty",
          "Clothing",
          "Electronics",
          "Electronics",
          "Beauty",
          "Electronics",
          "Electronics",
          "Electronics",
          "Beauty",
          "Clothing",
          "Clothing",
          "Electronics",
          "Clothing",
          "Beauty",
          "Beauty",
          "Clothing",
          "Clothing",
          "Electronics",
          "Clothing",
          "Electronics",
          "Electronics",
          "Beauty",
          "Beauty",
          "Beauty",
          "Beauty",
          "Clothing",
          "Beauty",
          "Clothing",
          "Beauty",
          "Clothing",
          "Electronics",
          "Clothing",
          "Clothing",
          "Beauty",
          "Clothing",
          "Electronics",
          "Electronics",
          "Beauty",
          "Electronics",
          "Clothing",
          "Electronics",
          "Beauty",
          "Clothing",
          "Beauty",
          "Clothing",
          "Electronics",
          "Beauty",
          "Beauty",
          "Clothing",
          "Beauty",
          "Clothing",
          "Clothing",
          "Clothing",
          "Clothing",
          "Electronics",
          "Clothing",
          "Beauty",
          "Electronics",
          "Beauty",
          "Electronics",
          "Clothing",
          "Electronics",
          "Electronics",
          "Beauty",
          "Beauty",
          "Clothing",
          "Electronics",
          "Electronics",
          "Electronics",
          "Clothing",
          "Clothing",
          "Clothing",
          "Clothing",
          "Clothing",
          "Beauty",
          "Electronics",
          "Electronics",
          "Electronics",
          "Electronics",
          "Electronics",
          "Electronics",
          "Electronics",
          "Electronics",
          "Beauty",
          "Electronics",
          "Beauty",
          "Clothing",
          "Electronics",
          "Clothing",
          "Clothing",
          "Clothing",
          "Beauty",
          "Clothing",
          "Clothing",
          "Clothing",
          "Electronics",
          "Electronics",
          "Beauty",
          "Beauty",
          "Electronics",
          "Beauty",
          "Electronics",
          "Clothing",
          "Clothing",
          "Beauty",
          "Electronics",
          "Electronics",
          "Beauty",
          "Electronics",
          "Clothing",
          "Beauty",
          "Beauty",
          "Electronics",
          "Beauty",
          "Electronics",
          "Electronics",
          "Electronics",
          "Electronics",
          "Electronics",
          "Beauty",
          "Clothing",
          "Clothing",
          "Beauty",
          "Beauty",
          "Clothing",
          "Clothing",
          "Clothing",
          "Clothing",
          "Clothing",
          "Electronics",
          "Beauty",
          "Electronics",
          "Clothing",
          "Clothing",
          "Clothing",
          "Electronics",
          "Electronics",
          "Clothing",
          "Electronics",
          "Electronics",
          "Clothing",
          "Electronics",
          "Beauty",
          "Beauty",
          "Beauty",
          "Beauty",
          "Clothing",
          "Clothing",
          "Clothing",
          "Beauty",
          "Beauty",
          "Electronics",
          "Electronics",
          "Beauty",
          "Beauty",
          "Beauty",
          "Beauty",
          "Electronics",
          "Beauty",
          "Electronics",
          "Beauty",
          "Beauty",
          "Beauty",
          "Electronics",
          "Electronics",
          "Clothing",
          "Beauty",
          "Clothing",
          "Clothing",
          "Electronics",
          "Electronics",
          "Clothing",
          "Beauty",
          "Electronics",
          "Beauty",
          "Beauty",
          "Clothing",
          "Clothing",
          "Clothing",
          "Clothing",
          "Electronics",
          "Electronics",
          "Clothing",
          "Electronics",
          "Clothing",
          "Beauty",
          "Beauty",
          "Beauty",
          "Clothing",
          "Beauty",
          "Electronics",
          "Beauty",
          "Beauty",
          "Beauty",
          "Electronics",
          "Clothing",
          "Electronics",
          "Clothing",
          "Clothing",
          "Beauty",
          "Clothing",
          "Electronics",
          "Electronics",
          "Clothing",
          "Beauty",
          "Beauty",
          "Electronics",
          "Beauty",
          "Clothing",
          "Clothing",
          "Electronics",
          "Clothing",
          "Electronics",
          "Clothing",
          "Electronics",
          "Beauty",
          "Clothing",
          "Clothing",
          "Electronics",
          "Electronics",
          "Clothing",
          "Electronics",
          "Clothing",
          "Beauty",
          "Electronics",
          "Clothing",
          "Beauty",
          "Beauty",
          "Clothing",
          "Electronics",
          "Clothing",
          "Beauty",
          "Clothing",
          "Electronics",
          "Beauty",
          "Clothing",
          "Electronics",
          "Beauty",
          "Electronics",
          "Beauty",
          "Clothing",
          "Electronics",
          "Beauty",
          "Electronics",
          "Electronics",
          "Clothing",
          "Electronics",
          "Beauty",
          "Beauty",
          "Beauty",
          "Beauty",
          "Clothing",
          "Electronics",
          "Clothing",
          "Electronics",
          "Electronics",
          "Electronics",
          "Clothing",
          "Electronics",
          "Clothing",
          "Beauty",
          "Beauty",
          "Electronics",
          "Clothing",
          "Beauty",
          "Clothing",
          "Clothing",
          "Electronics",
          "Beauty",
          "Electronics",
          "Electronics",
          "Beauty",
          "Beauty",
          "Clothing",
          "Beauty",
          "Clothing",
          "Clothing",
          "Clothing",
          "Beauty",
          "Electronics",
          "Clothing",
          "Electronics",
          "Electronics",
          "Beauty",
          "Electronics",
          "Electronics",
          "Beauty",
          "Clothing",
          "Electronics",
          "Beauty",
          "Electronics",
          "Electronics",
          "Clothing",
          "Electronics",
          "Beauty",
          "Electronics",
          "Clothing",
          "Clothing",
          "Beauty",
          "Clothing",
          "Electronics",
          "Clothing",
          "Beauty",
          "Clothing",
          "Clothing",
          "Clothing",
          "Beauty",
          "Clothing",
          "Clothing",
          "Electronics",
          "Beauty",
          "Clothing",
          "Beauty",
          "Clothing",
          "Clothing",
          "Clothing",
          "Electronics",
          "Electronics",
          "Electronics",
          "Beauty",
          "Beauty",
          "Electronics",
          "Beauty",
          "Clothing",
          "Clothing",
          "Clothing",
          "Electronics",
          "Beauty",
          "Electronics",
          "Beauty",
          "Clothing",
          "Electronics",
          "Beauty",
          "Beauty",
          "Clothing",
          "Electronics",
          "Electronics",
          "Electronics",
          "Clothing",
          "Electronics",
          "Clothing",
          "Clothing",
          "Clothing",
          "Beauty",
          "Electronics",
          "Electronics",
          "Clothing",
          "Clothing",
          "Electronics",
          "Clothing",
          "Electronics",
          "Beauty",
          "Clothing",
          "Electronics",
          "Clothing",
          "Electronics",
          "Electronics",
          "Clothing",
          "Beauty",
          "Electronics",
          "Electronics",
          "Electronics",
          "Beauty",
          "Beauty",
          "Clothing",
          "Beauty",
          "Clothing",
          "Clothing",
          "Beauty",
          "Clothing",
          "Beauty",
          "Clothing",
          "Beauty",
          "Beauty",
          "Clothing",
          "Electronics",
          "Clothing",
          "Beauty",
          "Electronics",
          "Clothing",
          "Clothing",
          "Clothing",
          "Electronics",
          "Beauty",
          "Clothing",
          "Clothing",
          "Clothing",
          "Clothing",
          "Clothing",
          "Beauty",
          "Beauty",
          "Clothing",
          "Electronics",
          "Beauty",
          "Electronics",
          "Beauty",
          "Clothing",
          "Beauty",
          "Clothing",
          "Beauty",
          "Clothing",
          "Clothing",
          "Clothing",
          "Clothing",
          "Electronics",
          "Clothing",
          "Electronics",
          "Electronics",
          "Clothing",
          "Electronics",
          "Beauty",
          "Clothing",
          "Electronics",
          "Clothing",
          "Clothing",
          "Clothing",
          "Electronics",
          "Beauty",
          "Beauty",
          "Electronics",
          "Clothing",
          "Electronics",
          "Electronics",
          "Electronics",
          "Clothing",
          "Electronics",
          "Clothing",
          "Electronics",
          "Beauty",
          "Electronics",
          "Electronics",
          "Beauty",
          "Clothing",
          "Clothing",
          "Electronics",
          "Beauty",
          "Clothing",
          "Electronics",
          "Beauty",
          "Clothing",
          "Clothing",
          "Beauty",
          "Beauty",
          "Beauty",
          "Beauty",
          "Electronics",
          "Beauty",
          "Clothing",
          "Clothing",
          "Electronics",
          "Clothing",
          "Clothing",
          "Beauty",
          "Clothing",
          "Electronics",
          "Beauty",
          "Beauty",
          "Electronics",
          "Beauty",
          "Beauty",
          "Electronics",
          "Beauty",
          "Electronics",
          "Electronics",
          "Clothing",
          "Clothing",
          "Beauty",
          "Beauty",
          "Electronics",
          "Beauty",
          "Electronics",
          "Electronics",
          "Beauty",
          "Electronics",
          "Clothing",
          "Beauty",
          "Clothing",
          "Beauty",
          "Electronics",
          "Beauty",
          "Clothing",
          "Electronics",
          "Beauty",
          "Beauty",
          "Beauty",
          "Clothing",
          "Clothing",
          "Beauty",
          "Electronics",
          "Electronics",
          "Clothing",
          "Electronics",
          "Clothing",
          "Beauty",
          "Clothing",
          "Clothing",
          "Beauty",
          "Electronics",
          "Clothing",
          "Clothing",
          "Beauty",
          "Electronics",
          "Clothing",
          "Beauty",
          "Clothing",
          "Beauty",
          "Electronics",
          "Electronics",
          "Electronics",
          "Electronics",
          "Clothing",
          "Clothing",
          "Electronics",
          "Electronics",
          "Electronics",
          "Clothing",
          "Electronics",
          "Electronics",
          "Electronics",
          "Beauty",
          "Electronics",
          "Beauty",
          "Beauty",
          "Electronics",
          "Beauty",
          "Electronics",
          "Clothing",
          "Clothing",
          "Clothing",
          "Clothing",
          "Beauty",
          "Electronics",
          "Electronics",
          "Electronics",
          "Clothing",
          "Clothing",
          "Electronics",
          "Clothing",
          "Electronics",
          "Electronics",
          "Electronics",
          "Electronics",
          "Electronics",
          "Electronics",
          "Electronics",
          "Clothing",
          "Electronics",
          "Electronics",
          "Clothing",
          "Clothing",
          "Clothing",
          "Electronics",
          "Beauty",
          "Beauty",
          "Clothing",
          "Beauty",
          "Clothing",
          "Electronics",
          "Beauty",
          "Electronics",
          "Beauty",
          "Electronics",
          "Beauty",
          "Electronics",
          "Electronics",
          "Beauty",
          "Electronics",
          "Electronics",
          "Electronics",
          "Beauty",
          "Beauty",
          "Electronics",
          "Electronics",
          "Beauty",
          "Beauty",
          "Electronics",
          "Electronics",
          "Electronics",
          "Clothing",
          "Beauty",
          "Clothing",
          "Beauty",
          "Beauty",
          "Beauty",
          "Beauty",
          "Beauty",
          "Beauty",
          "Beauty",
          "Clothing",
          "Electronics",
          "Electronics",
          "Clothing",
          "Clothing",
          "Clothing",
          "Clothing",
          "Beauty",
          "Electronics",
          "Beauty",
          "Electronics",
          "Electronics",
          "Clothing",
          "Beauty",
          "Clothing",
          "Beauty",
          "Electronics",
          "Clothing",
          "Clothing",
          "Electronics",
          "Electronics",
          "Electronics",
          "Clothing",
          "Beauty",
          "Clothing",
          "Beauty",
          "Clothing",
          "Clothing",
          "Electronics",
          "Beauty",
          "Clothing",
          "Clothing",
          "Electronics",
          "Electronics",
          "Beauty",
          "Clothing",
          "Beauty",
          "Clothing",
          "Beauty",
          "Electronics",
          "Clothing",
          "Beauty",
          "Electronics",
          "Electronics",
          "Beauty",
          "Clothing",
          "Clothing",
          "Electronics",
          "Clothing",
          "Clothing",
          "Clothing",
          "Electronics",
          "Beauty",
          "Clothing",
          "Electronics",
          "Electronics",
          "Beauty",
          "Clothing",
          "Clothing",
          "Beauty",
          "Beauty",
          "Electronics",
          "Electronics"
         ],
         "xaxis": "x",
         "yaxis": "y"
        }
       ],
       "layout": {
        "barmode": "relative",
        "legend": {
         "tracegroupgap": 0
        },
        "template": {
         "data": {
          "bar": [
           {
            "error_x": {
             "color": "#2a3f5f"
            },
            "error_y": {
             "color": "#2a3f5f"
            },
            "marker": {
             "line": {
              "color": "#E5ECF6",
              "width": 0.5
             },
             "pattern": {
              "fillmode": "overlay",
              "size": 10,
              "solidity": 0.2
             }
            },
            "type": "bar"
           }
          ],
          "barpolar": [
           {
            "marker": {
             "line": {
              "color": "#E5ECF6",
              "width": 0.5
             },
             "pattern": {
              "fillmode": "overlay",
              "size": 10,
              "solidity": 0.2
             }
            },
            "type": "barpolar"
           }
          ],
          "carpet": [
           {
            "aaxis": {
             "endlinecolor": "#2a3f5f",
             "gridcolor": "white",
             "linecolor": "white",
             "minorgridcolor": "white",
             "startlinecolor": "#2a3f5f"
            },
            "baxis": {
             "endlinecolor": "#2a3f5f",
             "gridcolor": "white",
             "linecolor": "white",
             "minorgridcolor": "white",
             "startlinecolor": "#2a3f5f"
            },
            "type": "carpet"
           }
          ],
          "choropleth": [
           {
            "colorbar": {
             "outlinewidth": 0,
             "ticks": ""
            },
            "type": "choropleth"
           }
          ],
          "contour": [
           {
            "colorbar": {
             "outlinewidth": 0,
             "ticks": ""
            },
            "colorscale": [
             [
              0,
              "#0d0887"
             ],
             [
              0.1111111111111111,
              "#46039f"
             ],
             [
              0.2222222222222222,
              "#7201a8"
             ],
             [
              0.3333333333333333,
              "#9c179e"
             ],
             [
              0.4444444444444444,
              "#bd3786"
             ],
             [
              0.5555555555555556,
              "#d8576b"
             ],
             [
              0.6666666666666666,
              "#ed7953"
             ],
             [
              0.7777777777777778,
              "#fb9f3a"
             ],
             [
              0.8888888888888888,
              "#fdca26"
             ],
             [
              1,
              "#f0f921"
             ]
            ],
            "type": "contour"
           }
          ],
          "contourcarpet": [
           {
            "colorbar": {
             "outlinewidth": 0,
             "ticks": ""
            },
            "type": "contourcarpet"
           }
          ],
          "heatmap": [
           {
            "colorbar": {
             "outlinewidth": 0,
             "ticks": ""
            },
            "colorscale": [
             [
              0,
              "#0d0887"
             ],
             [
              0.1111111111111111,
              "#46039f"
             ],
             [
              0.2222222222222222,
              "#7201a8"
             ],
             [
              0.3333333333333333,
              "#9c179e"
             ],
             [
              0.4444444444444444,
              "#bd3786"
             ],
             [
              0.5555555555555556,
              "#d8576b"
             ],
             [
              0.6666666666666666,
              "#ed7953"
             ],
             [
              0.7777777777777778,
              "#fb9f3a"
             ],
             [
              0.8888888888888888,
              "#fdca26"
             ],
             [
              1,
              "#f0f921"
             ]
            ],
            "type": "heatmap"
           }
          ],
          "heatmapgl": [
           {
            "colorbar": {
             "outlinewidth": 0,
             "ticks": ""
            },
            "colorscale": [
             [
              0,
              "#0d0887"
             ],
             [
              0.1111111111111111,
              "#46039f"
             ],
             [
              0.2222222222222222,
              "#7201a8"
             ],
             [
              0.3333333333333333,
              "#9c179e"
             ],
             [
              0.4444444444444444,
              "#bd3786"
             ],
             [
              0.5555555555555556,
              "#d8576b"
             ],
             [
              0.6666666666666666,
              "#ed7953"
             ],
             [
              0.7777777777777778,
              "#fb9f3a"
             ],
             [
              0.8888888888888888,
              "#fdca26"
             ],
             [
              1,
              "#f0f921"
             ]
            ],
            "type": "heatmapgl"
           }
          ],
          "histogram": [
           {
            "marker": {
             "pattern": {
              "fillmode": "overlay",
              "size": 10,
              "solidity": 0.2
             }
            },
            "type": "histogram"
           }
          ],
          "histogram2d": [
           {
            "colorbar": {
             "outlinewidth": 0,
             "ticks": ""
            },
            "colorscale": [
             [
              0,
              "#0d0887"
             ],
             [
              0.1111111111111111,
              "#46039f"
             ],
             [
              0.2222222222222222,
              "#7201a8"
             ],
             [
              0.3333333333333333,
              "#9c179e"
             ],
             [
              0.4444444444444444,
              "#bd3786"
             ],
             [
              0.5555555555555556,
              "#d8576b"
             ],
             [
              0.6666666666666666,
              "#ed7953"
             ],
             [
              0.7777777777777778,
              "#fb9f3a"
             ],
             [
              0.8888888888888888,
              "#fdca26"
             ],
             [
              1,
              "#f0f921"
             ]
            ],
            "type": "histogram2d"
           }
          ],
          "histogram2dcontour": [
           {
            "colorbar": {
             "outlinewidth": 0,
             "ticks": ""
            },
            "colorscale": [
             [
              0,
              "#0d0887"
             ],
             [
              0.1111111111111111,
              "#46039f"
             ],
             [
              0.2222222222222222,
              "#7201a8"
             ],
             [
              0.3333333333333333,
              "#9c179e"
             ],
             [
              0.4444444444444444,
              "#bd3786"
             ],
             [
              0.5555555555555556,
              "#d8576b"
             ],
             [
              0.6666666666666666,
              "#ed7953"
             ],
             [
              0.7777777777777778,
              "#fb9f3a"
             ],
             [
              0.8888888888888888,
              "#fdca26"
             ],
             [
              1,
              "#f0f921"
             ]
            ],
            "type": "histogram2dcontour"
           }
          ],
          "mesh3d": [
           {
            "colorbar": {
             "outlinewidth": 0,
             "ticks": ""
            },
            "type": "mesh3d"
           }
          ],
          "parcoords": [
           {
            "line": {
             "colorbar": {
              "outlinewidth": 0,
              "ticks": ""
             }
            },
            "type": "parcoords"
           }
          ],
          "pie": [
           {
            "automargin": true,
            "type": "pie"
           }
          ],
          "scatter": [
           {
            "fillpattern": {
             "fillmode": "overlay",
             "size": 10,
             "solidity": 0.2
            },
            "type": "scatter"
           }
          ],
          "scatter3d": [
           {
            "line": {
             "colorbar": {
              "outlinewidth": 0,
              "ticks": ""
             }
            },
            "marker": {
             "colorbar": {
              "outlinewidth": 0,
              "ticks": ""
             }
            },
            "type": "scatter3d"
           }
          ],
          "scattercarpet": [
           {
            "marker": {
             "colorbar": {
              "outlinewidth": 0,
              "ticks": ""
             }
            },
            "type": "scattercarpet"
           }
          ],
          "scattergeo": [
           {
            "marker": {
             "colorbar": {
              "outlinewidth": 0,
              "ticks": ""
             }
            },
            "type": "scattergeo"
           }
          ],
          "scattergl": [
           {
            "marker": {
             "colorbar": {
              "outlinewidth": 0,
              "ticks": ""
             }
            },
            "type": "scattergl"
           }
          ],
          "scattermapbox": [
           {
            "marker": {
             "colorbar": {
              "outlinewidth": 0,
              "ticks": ""
             }
            },
            "type": "scattermapbox"
           }
          ],
          "scatterpolar": [
           {
            "marker": {
             "colorbar": {
              "outlinewidth": 0,
              "ticks": ""
             }
            },
            "type": "scatterpolar"
           }
          ],
          "scatterpolargl": [
           {
            "marker": {
             "colorbar": {
              "outlinewidth": 0,
              "ticks": ""
             }
            },
            "type": "scatterpolargl"
           }
          ],
          "scatterternary": [
           {
            "marker": {
             "colorbar": {
              "outlinewidth": 0,
              "ticks": ""
             }
            },
            "type": "scatterternary"
           }
          ],
          "surface": [
           {
            "colorbar": {
             "outlinewidth": 0,
             "ticks": ""
            },
            "colorscale": [
             [
              0,
              "#0d0887"
             ],
             [
              0.1111111111111111,
              "#46039f"
             ],
             [
              0.2222222222222222,
              "#7201a8"
             ],
             [
              0.3333333333333333,
              "#9c179e"
             ],
             [
              0.4444444444444444,
              "#bd3786"
             ],
             [
              0.5555555555555556,
              "#d8576b"
             ],
             [
              0.6666666666666666,
              "#ed7953"
             ],
             [
              0.7777777777777778,
              "#fb9f3a"
             ],
             [
              0.8888888888888888,
              "#fdca26"
             ],
             [
              1,
              "#f0f921"
             ]
            ],
            "type": "surface"
           }
          ],
          "table": [
           {
            "cells": {
             "fill": {
              "color": "#EBF0F8"
             },
             "line": {
              "color": "white"
             }
            },
            "header": {
             "fill": {
              "color": "#C8D4E3"
             },
             "line": {
              "color": "white"
             }
            },
            "type": "table"
           }
          ]
         },
         "layout": {
          "annotationdefaults": {
           "arrowcolor": "#2a3f5f",
           "arrowhead": 0,
           "arrowwidth": 1
          },
          "autotypenumbers": "strict",
          "coloraxis": {
           "colorbar": {
            "outlinewidth": 0,
            "ticks": ""
           }
          },
          "colorscale": {
           "diverging": [
            [
             0,
             "#8e0152"
            ],
            [
             0.1,
             "#c51b7d"
            ],
            [
             0.2,
             "#de77ae"
            ],
            [
             0.3,
             "#f1b6da"
            ],
            [
             0.4,
             "#fde0ef"
            ],
            [
             0.5,
             "#f7f7f7"
            ],
            [
             0.6,
             "#e6f5d0"
            ],
            [
             0.7,
             "#b8e186"
            ],
            [
             0.8,
             "#7fbc41"
            ],
            [
             0.9,
             "#4d9221"
            ],
            [
             1,
             "#276419"
            ]
           ],
           "sequential": [
            [
             0,
             "#0d0887"
            ],
            [
             0.1111111111111111,
             "#46039f"
            ],
            [
             0.2222222222222222,
             "#7201a8"
            ],
            [
             0.3333333333333333,
             "#9c179e"
            ],
            [
             0.4444444444444444,
             "#bd3786"
            ],
            [
             0.5555555555555556,
             "#d8576b"
            ],
            [
             0.6666666666666666,
             "#ed7953"
            ],
            [
             0.7777777777777778,
             "#fb9f3a"
            ],
            [
             0.8888888888888888,
             "#fdca26"
            ],
            [
             1,
             "#f0f921"
            ]
           ],
           "sequentialminus": [
            [
             0,
             "#0d0887"
            ],
            [
             0.1111111111111111,
             "#46039f"
            ],
            [
             0.2222222222222222,
             "#7201a8"
            ],
            [
             0.3333333333333333,
             "#9c179e"
            ],
            [
             0.4444444444444444,
             "#bd3786"
            ],
            [
             0.5555555555555556,
             "#d8576b"
            ],
            [
             0.6666666666666666,
             "#ed7953"
            ],
            [
             0.7777777777777778,
             "#fb9f3a"
            ],
            [
             0.8888888888888888,
             "#fdca26"
            ],
            [
             1,
             "#f0f921"
            ]
           ]
          },
          "colorway": [
           "#636efa",
           "#EF553B",
           "#00cc96",
           "#ab63fa",
           "#FFA15A",
           "#19d3f3",
           "#FF6692",
           "#B6E880",
           "#FF97FF",
           "#FECB52"
          ],
          "font": {
           "color": "#2a3f5f"
          },
          "geo": {
           "bgcolor": "white",
           "lakecolor": "white",
           "landcolor": "#E5ECF6",
           "showlakes": true,
           "showland": true,
           "subunitcolor": "white"
          },
          "hoverlabel": {
           "align": "left"
          },
          "hovermode": "closest",
          "mapbox": {
           "style": "light"
          },
          "paper_bgcolor": "white",
          "plot_bgcolor": "#E5ECF6",
          "polar": {
           "angularaxis": {
            "gridcolor": "white",
            "linecolor": "white",
            "ticks": ""
           },
           "bgcolor": "#E5ECF6",
           "radialaxis": {
            "gridcolor": "white",
            "linecolor": "white",
            "ticks": ""
           }
          },
          "scene": {
           "xaxis": {
            "backgroundcolor": "#E5ECF6",
            "gridcolor": "white",
            "gridwidth": 2,
            "linecolor": "white",
            "showbackground": true,
            "ticks": "",
            "zerolinecolor": "white"
           },
           "yaxis": {
            "backgroundcolor": "#E5ECF6",
            "gridcolor": "white",
            "gridwidth": 2,
            "linecolor": "white",
            "showbackground": true,
            "ticks": "",
            "zerolinecolor": "white"
           },
           "zaxis": {
            "backgroundcolor": "#E5ECF6",
            "gridcolor": "white",
            "gridwidth": 2,
            "linecolor": "white",
            "showbackground": true,
            "ticks": "",
            "zerolinecolor": "white"
           }
          },
          "shapedefaults": {
           "line": {
            "color": "#2a3f5f"
           }
          },
          "ternary": {
           "aaxis": {
            "gridcolor": "white",
            "linecolor": "white",
            "ticks": ""
           },
           "baxis": {
            "gridcolor": "white",
            "linecolor": "white",
            "ticks": ""
           },
           "bgcolor": "#E5ECF6",
           "caxis": {
            "gridcolor": "white",
            "linecolor": "white",
            "ticks": ""
           }
          },
          "title": {
           "x": 0.05
          },
          "xaxis": {
           "automargin": true,
           "gridcolor": "white",
           "linecolor": "white",
           "ticks": "",
           "title": {
            "standoff": 15
           },
           "zerolinecolor": "white",
           "zerolinewidth": 2
          },
          "yaxis": {
           "automargin": true,
           "gridcolor": "white",
           "linecolor": "white",
           "ticks": "",
           "title": {
            "standoff": 15
           },
           "zerolinecolor": "white",
           "zerolinewidth": 2
          }
         }
        },
        "title": {
         "text": "Histograma de productos"
        },
        "xaxis": {
         "anchor": "y",
         "domain": [
          0,
          1
         ],
         "title": {
          "text": "Product Category"
         }
        },
        "yaxis": {
         "anchor": "x",
         "domain": [
          0,
          1
         ],
         "title": {
          "text": "count"
         }
        }
       }
      }
     },
     "metadata": {},
     "output_type": "display_data"
    }
   ],
   "source": [
    "# Este codigo ejecuta un histograma en la libreria Plotly.\n",
    "fig = px.histogram(df, x='Product Category', nbins=10, title='Histograma de productos')\n",
    "fig.show()"
   ]
  },
  {
   "cell_type": "code",
   "execution_count": 40,
   "metadata": {},
   "outputs": [
    {
     "data": {
      "image/png": "[encoded data removed]",
      "text/plain": [
       "<Figure size 640x480 with 1 Axes>"
      ]
     },
     "metadata": {},
     "output_type": "display_data"
    }
   ],
   "source": [
    "sns.barplot(data=df, x='Product Category', y='Total Amount', estimator=np.sum)\n",
    "plt.title('Total de ventas por categoria')\n",
    "plt.show()"
   ]
  },
  {
   "cell_type": "code",
   "execution_count": 41,
   "metadata": {},
   "outputs": [
    {
     "data": {
      "image/png": "[encoded data removed]",
      "text/plain": [
       "<Figure size 1000x600 with 1 Axes>"
      ]
     },
     "metadata": {},
     "output_type": "display_data"
    }
   ],
   "source": [
    "grouped1 = df.groupby('Age')['Total Amount'].sum().reset_index()# Agrupamos Age y Total Amount\n",
    "\n",
    "plt.figure(figsize=(10,6))\n",
    "plt.bar(grouped1['Age'], grouped1['Total Amount'], color='skyblue', edgecolor='black')\n",
    "plt.xlabel('Age')\n",
    "plt.ylabel('Total Amount')\n",
    "plt.title('Total Amount by Age')\n",
    "plt.xticks(rotation=45)\n",
    "plt.grid(True)\n",
    "plt.show()"
   ]
  },
  {
   "cell_type": "code",
   "execution_count": 42,
   "metadata": {},
   "outputs": [
    {
     "data": {
      "image/png": "[encoded data removed]",
      "text/plain": [
       "<Figure size 1000x600 with 1 Axes>"
      ]
     },
     "metadata": {},
     "output_type": "display_data"
    }
   ],
   "source": [
    "grouped2 = df.groupby('Gender')['Total Amount'].sum().reset_index() #Agrupamos por genero\n",
    "\n",
    "plt.figure(figsize=(10,6))\n",
    "plt.bar(grouped2['Gender'], grouped2['Total Amount'], color='skyblue', edgecolor='black')\n",
    "plt.xlabel('Gender')\n",
    "plt.ylabel('Total Amount')\n",
    "plt.title('Total Amount by Gender')\n",
    "plt.xticks(rotation=45)\n",
    "plt.show()"
   ]
  },
  {
   "cell_type": "code",
   "execution_count": 43,
   "metadata": {},
   "outputs": [
    {
     "data": {
      "image/png": "[encoded data removed]",
      "text/plain": [
       "<Figure size 1000x600 with 1 Axes>"
      ]
     },
     "metadata": {},
     "output_type": "display_data"
    }
   ],
   "source": [
    "grouped3 = df.groupby('Product Category')['Total Amount'].sum().reset_index() \n",
    "\n",
    "plt.figure(figsize=(10,6))\n",
    "plt.bar(grouped3['Product Category'], grouped3['Total Amount'], color='skyblue', edgecolor='black')\n",
    "plt.xlabel('Gender')\n",
    "plt.ylabel('Total Amount')\n",
    "plt.title('Total Amount by Gender')\n",
    "plt.xticks(rotation=45)\n",
    "plt.show()"
   ]
  },
  {
   "cell_type": "code",
   "execution_count": 44,
   "metadata": {},
   "outputs": [
    {
     "data": {
      "image/png": "[encoded data removed]",
      "text/plain": [
       "<Figure size 1000x600 with 1 Axes>"
      ]
     },
     "metadata": {},
     "output_type": "display_data"
    }
   ],
   "source": [
    "plt.figure(figsize=(10, 6))\n",
    "sns.histplot(df['Age'], color='skyblue', edgecolor='black')\n",
    "plt.show()\n"
   ]
  },
  {
   "cell_type": "markdown",
   "metadata": {},
   "source": [
    "### **Crea gráficos de líneas**"
   ]
  },
  {
   "cell_type": "code",
   "execution_count": 45,
   "metadata": {},
   "outputs": [],
   "source": [
    "df['Date'] = pd.to_datetime(df['Date']) #Convertimos la columna Date a su dtype correspondiente"
   ]
  },
  {
   "cell_type": "code",
   "execution_count": 46,
   "metadata": {},
   "outputs": [
    {
     "name": "stderr",
     "output_type": "stream",
     "text": [
      "C:\\Users\\guill\\AppData\\Local\\Temp\\ipykernel_5712\\1710138631.py:3: FutureWarning:\n",
      "\n",
      "'M' is deprecated and will be removed in a future version, please use 'ME' instead.\n",
      "\n"
     ]
    },
    {
     "data": {
      "image/png": "[encoded data removed]",
      "text/plain": [
       "<Figure size 1400x800 with 1 Axes>"
      ]
     },
     "metadata": {},
     "output_type": "display_data"
    }
   ],
   "source": [
    "# Resamplear los datos a una frecuencia mensual y sumar los valores\n",
    "df.set_index('Date', inplace=True)\n",
    "df_resampled = df.resample('M').sum()\n",
    "\n",
    "plt.figure(figsize=(14, 8))\n",
    "sns.lineplot(data=df_resampled, x='Date', y='Quantity')\n",
    "plt.title('Monthly Quantity Over Time')\n",
    "plt.xlabel('Date')\n",
    "plt.ylabel('Quantity')\n",
    "plt.show()\n"
   ]
  },
  {
   "cell_type": "markdown",
   "metadata": {},
   "source": [
    "### **Utiliza gráficos de dispersión**"
   ]
  },
  {
   "cell_type": "markdown",
   "metadata": {},
   "source": [
    "Obeservacion: No tiene sentido hacer algun grafico de dispercion en este dataset porque no existen suficientes variables que puedan estar correlacionadas"
   ]
  },
  {
   "cell_type": "code",
   "execution_count": 47,
   "metadata": {},
   "outputs": [
    {
     "data": {
      "image/png": "[encoded data removed]",
      "text/plain": [
       "<Figure size 1000x600 with 1 Axes>"
      ]
     },
     "metadata": {},
     "output_type": "display_data"
    }
   ],
   "source": [
    "plt.figure(figsize=(10, 6))\n",
    "sns.scatterplot(data=df, x='Date', y='Age', hue='Product Category')\n",
    "plt.show()"
   ]
  },
  {
   "cell_type": "markdown",
   "metadata": {},
   "source": [
    "### **Combina histogramas y boxplots**"
   ]
  },
  {
   "cell_type": "code",
   "execution_count": 48,
   "metadata": {},
   "outputs": [
    {
     "data": {
      "image/png": "[encoded data removed]",
      "text/plain": [
       "<Figure size 1200x800 with 2 Axes>"
      ]
     },
     "metadata": {},
     "output_type": "display_data"
    }
   ],
   "source": [
    "# Create figure and gridspec\n",
    "fig = plt.figure(figsize=(12, 8))\n",
    "gs = gridspec.GridSpec(2, 1, height_ratios=[3, 1])\n",
    "\n",
    "# Create the histogram\n",
    "ax0 = plt.subplot(gs[0])\n",
    "sns.histplot(data=df, x='Age', bins=30, ax=ax0)\n",
    "ax0.set_xlabel('')  # Remove x label from histogram\n",
    "\n",
    "# Create the boxplot\n",
    "ax1 = plt.subplot(gs[1])\n",
    "sns.boxplot(x=df['Age'], ax=ax1)\n",
    "ax1.set_xlabel('Edad')  # Add label to boxplot\n",
    "\n",
    "# Set the title for the entire figure\n",
    "fig.suptitle('Histograma de la edad de clientes', y=0.95)\n",
    "plt.show()"
   ]
  },
  {
   "cell_type": "code",
   "execution_count": 51,
   "metadata": {},
   "outputs": [
    {
     "data": {
      "application/vnd.plotly.v1+json": {
       "config": {
        "plotlyServerURL": "https://plot.ly"
       },
       "data": [
        {
         "alignmentgroup": "True",
         "bingroup": "x",
         "hovertemplate": "Edad=%{x}<br>count=%{y}<extra></extra>",
         "legendgroup": "",
         "marker": {
          "color": "#636efa",
          "pattern": {
           "shape": ""
          }
         },
         "name": "",
         "nbinsx": 30,
         "offsetgroup": "",
         "orientation": "v",
         "showlegend": false,
         "type": "histogram",
         "x": [
          34,
          26,
          50,
          37,
          30,
          45,
          46,
          30,
          63,
          52,
          23,
          35,
          22,
          64,
          42,
          19,
          27,
          47,
          62,
          22,
          50,
          18,
          35,
          49,
          64,
          28,
          38,
          43,
          42,
          39,
          44,
          30,
          50,
          51,
          58,
          52,
          18,
          38,
          23,
          45,
          34,
          22,
          48,
          22,
          55,
          20,
          40,
          54,
          54,
          27,
          27,
          36,
          34,
          38,
          31,
          26,
          63,
          18,
          62,
          30,
          21,
          18,
          57,
          49,
          51,
          45,
          48,
          25,
          56,
          43,
          51,
          20,
          29,
          18,
          61,
          22,
          47,
          47,
          34,
          64,
          40,
          32,
          54,
          38,
          31,
          19,
          28,
          56,
          55,
          51,
          55,
          51,
          35,
          47,
          32,
          44,
          51,
          55,
          50,
          41,
          32,
          47,
          59,
          34,
          22,
          46,
          21,
          27,
          34,
          27,
          34,
          37,
          41,
          22,
          51,
          23,
          19,
          30,
          60,
          60,
          28,
          64,
          40,
          33,
          48,
          28,
          33,
          25,
          21,
          57,
          21,
          42,
          20,
          49,
          20,
          44,
          46,
          49,
          36,
          38,
          22,
          35,
          45,
          59,
          39,
          38,
          23,
          18,
          22,
          58,
          29,
          43,
          63,
          51,
          31,
          43,
          62,
          44,
          26,
          43,
          64,
          39,
          64,
          47,
          60,
          34,
          43,
          53,
          18,
          25,
          52,
          32,
          64,
          39,
          31,
          43,
          45,
          40,
          31,
          41,
          19,
          62,
          43,
          31,
          24,
          20,
          64,
          40,
          63,
          60,
          64,
          62,
          35,
          55,
          52,
          32,
          42,
          54,
          45,
          27,
          56,
          34,
          56,
          39,
          43,
          61,
          42,
          34,
          30,
          37,
          42,
          21,
          27,
          20,
          58,
          62,
          35,
          64,
          53,
          64,
          39,
          51,
          64,
          25,
          57,
          61,
          36,
          59,
          58,
          54,
          23,
          43,
          51,
          62,
          23,
          54,
          50,
          39,
          38,
          23,
          23,
          21,
          47,
          28,
          47,
          48,
          41,
          26,
          20,
          48,
          57,
          54,
          53,
          41,
          48,
          23,
          19,
          37,
          45,
          28,
          21,
          32,
          23,
          47,
          55,
          19,
          32,
          28,
          25,
          43,
          62,
          61,
          22,
          23,
          43,
          21,
          36,
          37,
          50,
          37,
          29,
          64,
          18,
          43,
          31,
          55,
          54,
          28,
          53,
          30,
          60,
          20,
          50,
          23,
          27,
          22,
          40,
          27,
          61,
          19,
          30,
          57,
          19,
          37,
          18,
          54,
          26,
          34,
          26,
          28,
          32,
          41,
          55,
          52,
          47,
          48,
          22,
          61,
          31,
          28,
          26,
          51,
          29,
          52,
          52,
          18,
          57,
          39,
          46,
          25,
          28,
          58,
          54,
          31,
          47,
          52,
          38,
          54,
          22,
          36,
          31,
          43,
          21,
          42,
          62,
          59,
          42,
          35,
          57,
          25,
          56,
          57,
          31,
          49,
          55,
          50,
          40,
          32,
          50,
          42,
          34,
          50,
          64,
          19,
          31,
          57,
          57,
          56,
          23,
          23,
          20,
          24,
          25,
          59,
          32,
          64,
          46,
          50,
          47,
          56,
          44,
          53,
          46,
          55,
          50,
          54,
          44,
          50,
          21,
          39,
          19,
          27,
          22,
          27,
          50,
          55,
          30,
          48,
          64,
          53,
          62,
          41,
          32,
          46,
          25,
          22,
          46,
          64,
          21,
          29,
          62,
          19,
          44,
          48,
          53,
          53,
          43,
          60,
          44,
          22,
          37,
          28,
          27,
          57,
          55,
          23,
          25,
          40,
          64,
          43,
          63,
          60,
          29,
          43,
          30,
          57,
          35,
          42,
          50,
          64,
          57,
          60,
          29,
          61,
          53,
          21,
          22,
          54,
          25,
          59,
          45,
          48,
          26,
          46,
          31,
          57,
          58,
          39,
          28,
          40,
          18,
          63,
          54,
          38,
          43,
          63,
          53,
          40,
          18,
          57,
          32,
          38,
          64,
          26,
          26,
          27,
          43,
          58,
          52,
          42,
          43,
          28,
          55,
          19,
          24,
          35,
          44,
          51,
          44,
          34,
          60,
          61,
          41,
          42,
          24,
          23,
          41,
          50,
          46,
          60,
          39,
          43,
          45,
          38,
          24,
          34,
          37,
          58,
          37,
          39,
          45,
          57,
          24,
          18,
          49,
          30,
          47,
          40,
          36,
          49,
          47,
          46,
          62,
          46,
          47,
          33,
          57,
          36,
          35,
          18,
          31,
          64,
          19,
          45,
          47,
          55,
          21,
          18,
          25,
          46,
          56,
          20,
          49,
          27,
          27,
          36,
          63,
          51,
          50,
          40,
          45,
          49,
          24,
          46,
          25,
          18,
          20,
          41,
          40,
          25,
          64,
          54,
          20,
          50,
          45,
          64,
          25,
          51,
          52,
          49,
          41,
          31,
          49,
          63,
          60,
          33,
          21,
          54,
          38,
          31,
          48,
          35,
          24,
          27,
          24,
          50,
          40,
          38,
          36,
          36,
          53,
          46,
          35,
          19,
          18,
          64,
          22,
          37,
          28,
          59,
          19,
          20,
          40,
          29,
          37,
          22,
          54,
          55,
          47,
          26,
          51,
          61,
          52,
          39,
          61,
          41,
          34,
          27,
          47,
          63,
          40,
          49,
          34,
          34,
          31,
          26,
          57,
          19,
          62,
          42,
          56,
          26,
          39,
          60,
          63,
          21,
          43,
          46,
          62,
          51,
          40,
          54,
          28,
          23,
          35,
          38,
          59,
          53,
          58,
          55,
          51,
          34,
          54,
          42,
          55,
          29,
          40,
          59,
          39,
          38,
          44,
          48,
          23,
          44,
          57,
          51,
          29,
          62,
          24,
          27,
          62,
          34,
          43,
          38,
          45,
          63,
          19,
          60,
          18,
          53,
          43,
          46,
          38,
          28,
          57,
          28,
          53,
          56,
          57,
          52,
          51,
          64,
          41,
          39,
          22,
          50,
          53,
          64,
          37,
          36,
          52,
          60,
          34,
          62,
          60,
          51,
          26,
          43,
          19,
          26,
          26,
          57,
          34,
          18,
          42,
          60,
          57,
          59,
          42,
          56,
          52,
          20,
          54,
          61,
          61,
          47,
          55,
          51,
          29,
          36,
          54,
          61,
          34,
          27,
          64,
          29,
          33,
          41,
          36,
          25,
          48,
          38,
          34,
          40,
          54,
          33,
          23,
          25,
          42,
          35,
          42,
          29,
          32,
          43,
          58,
          62,
          43,
          64,
          49,
          27,
          33,
          24,
          34,
          40,
          43,
          38,
          39,
          24,
          31,
          32,
          24,
          26,
          25,
          40,
          46,
          35,
          48,
          47,
          56,
          52,
          35,
          59,
          56,
          34,
          31,
          48,
          41,
          52,
          61,
          62,
          51,
          20,
          54,
          60,
          57,
          43,
          40,
          61,
          56,
          32,
          21,
          46,
          39,
          42,
          30,
          35,
          50,
          33,
          62,
          59,
          61,
          19,
          52,
          59,
          51,
          47,
          30,
          30,
          35,
          49,
          49,
          52,
          56,
          63,
          46,
          46,
          61,
          33,
          61,
          64,
          27,
          47,
          42,
          56,
          37,
          22,
          18,
          47,
          20,
          62,
          31,
          47,
          21,
          35,
          54,
          42,
          18,
          63,
          32,
          26,
          32,
          41,
          21,
          29,
          54,
          54,
          60,
          23,
          56,
          63,
          41,
          28,
          30,
          51,
          42,
          24,
          21,
          25,
          37,
          46,
          62,
          63,
          27,
          60,
          51,
          43,
          58,
          20,
          23,
          22,
          22,
          64,
          40,
          26,
          52,
          37,
          59,
          52,
          35,
          34,
          41,
          20,
          49,
          52,
          55,
          30,
          64,
          42,
          26,
          21,
          31,
          54,
          51,
          28,
          58,
          20,
          45,
          46,
          26,
          20,
          42,
          51,
          29,
          59,
          26,
          32,
          57,
          42,
          22,
          28,
          51,
          41,
          32,
          55,
          25,
          22,
          43,
          35,
          23,
          54,
          30,
          45,
          22,
          30,
          34,
          57,
          62,
          49,
          46,
          20,
          57,
          51,
          57,
          44,
          30,
          62,
          50,
          23,
          41,
          36,
          33,
          57,
          45,
          50,
          58,
          30,
          60,
          62,
          42,
          59,
          53,
          44,
          55,
          24,
          22,
          60,
          62,
          48,
          40,
          59,
          27,
          49,
          60,
          47,
          56,
          48,
          35,
          53,
          19,
          31,
          30,
          46,
          29,
          56,
          19,
          49,
          30,
          63,
          44,
          58,
          34,
          57,
          48,
          51,
          41,
          62,
          52,
          23,
          36,
          47
         ],
         "xaxis": "x",
         "yaxis": "y"
        },
        {
         "alignmentgroup": "True",
         "hovertemplate": "Edad=%{x}<extra></extra>",
         "legendgroup": "",
         "marker": {
          "color": "#636efa"
         },
         "name": "",
         "notched": true,
         "offsetgroup": "",
         "showlegend": false,
         "type": "box",
         "x": [
          34,
          26,
          50,
          37,
          30,
          45,
          46,
          30,
          63,
          52,
          23,
          35,
          22,
          64,
          42,
          19,
          27,
          47,
          62,
          22,
          50,
          18,
          35,
          49,
          64,
          28,
          38,
          43,
          42,
          39,
          44,
          30,
          50,
          51,
          58,
          52,
          18,
          38,
          23,
          45,
          34,
          22,
          48,
          22,
          55,
          20,
          40,
          54,
          54,
          27,
          27,
          36,
          34,
          38,
          31,
          26,
          63,
          18,
          62,
          30,
          21,
          18,
          57,
          49,
          51,
          45,
          48,
          25,
          56,
          43,
          51,
          20,
          29,
          18,
          61,
          22,
          47,
          47,
          34,
          64,
          40,
          32,
          54,
          38,
          31,
          19,
          28,
          56,
          55,
          51,
          55,
          51,
          35,
          47,
          32,
          44,
          51,
          55,
          50,
          41,
          32,
          47,
          59,
          34,
          22,
          46,
          21,
          27,
          34,
          27,
          34,
          37,
          41,
          22,
          51,
          23,
          19,
          30,
          60,
          60,
          28,
          64,
          40,
          33,
          48,
          28,
          33,
          25,
          21,
          57,
          21,
          42,
          20,
          49,
          20,
          44,
          46,
          49,
          36,
          38,
          22,
          35,
          45,
          59,
          39,
          38,
          23,
          18,
          22,
          58,
          29,
          43,
          63,
          51,
          31,
          43,
          62,
          44,
          26,
          43,
          64,
          39,
          64,
          47,
          60,
          34,
          43,
          53,
          18,
          25,
          52,
          32,
          64,
          39,
          31,
          43,
          45,
          40,
          31,
          41,
          19,
          62,
          43,
          31,
          24,
          20,
          64,
          40,
          63,
          60,
          64,
          62,
          35,
          55,
          52,
          32,
          42,
          54,
          45,
          27,
          56,
          34,
          56,
          39,
          43,
          61,
          42,
          34,
          30,
          37,
          42,
          21,
          27,
          20,
          58,
          62,
          35,
          64,
          53,
          64,
          39,
          51,
          64,
          25,
          57,
          61,
          36,
          59,
          58,
          54,
          23,
          43,
          51,
          62,
          23,
          54,
          50,
          39,
          38,
          23,
          23,
          21,
          47,
          28,
          47,
          48,
          41,
          26,
          20,
          48,
          57,
          54,
          53,
          41,
          48,
          23,
          19,
          37,
          45,
          28,
          21,
          32,
          23,
          47,
          55,
          19,
          32,
          28,
          25,
          43,
          62,
          61,
          22,
          23,
          43,
          21,
          36,
          37,
          50,
          37,
          29,
          64,
          18,
          43,
          31,
          55,
          54,
          28,
          53,
          30,
          60,
          20,
          50,
          23,
          27,
          22,
          40,
          27,
          61,
          19,
          30,
          57,
          19,
          37,
          18,
          54,
          26,
          34,
          26,
          28,
          32,
          41,
          55,
          52,
          47,
          48,
          22,
          61,
          31,
          28,
          26,
          51,
          29,
          52,
          52,
          18,
          57,
          39,
          46,
          25,
          28,
          58,
          54,
          31,
          47,
          52,
          38,
          54,
          22,
          36,
          31,
          43,
          21,
          42,
          62,
          59,
          42,
          35,
          57,
          25,
          56,
          57,
          31,
          49,
          55,
          50,
          40,
          32,
          50,
          42,
          34,
          50,
          64,
          19,
          31,
          57,
          57,
          56,
          23,
          23,
          20,
          24,
          25,
          59,
          32,
          64,
          46,
          50,
          47,
          56,
          44,
          53,
          46,
          55,
          50,
          54,
          44,
          50,
          21,
          39,
          19,
          27,
          22,
          27,
          50,
          55,
          30,
          48,
          64,
          53,
          62,
          41,
          32,
          46,
          25,
          22,
          46,
          64,
          21,
          29,
          62,
          19,
          44,
          48,
          53,
          53,
          43,
          60,
          44,
          22,
          37,
          28,
          27,
          57,
          55,
          23,
          25,
          40,
          64,
          43,
          63,
          60,
          29,
          43,
          30,
          57,
          35,
          42,
          50,
          64,
          57,
          60,
          29,
          61,
          53,
          21,
          22,
          54,
          25,
          59,
          45,
          48,
          26,
          46,
          31,
          57,
          58,
          39,
          28,
          40,
          18,
          63,
          54,
          38,
          43,
          63,
          53,
          40,
          18,
          57,
          32,
          38,
          64,
          26,
          26,
          27,
          43,
          58,
          52,
          42,
          43,
          28,
          55,
          19,
          24,
          35,
          44,
          51,
          44,
          34,
          60,
          61,
          41,
          42,
          24,
          23,
          41,
          50,
          46,
          60,
          39,
          43,
          45,
          38,
          24,
          34,
          37,
          58,
          37,
          39,
          45,
          57,
          24,
          18,
          49,
          30,
          47,
          40,
          36,
          49,
          47,
          46,
          62,
          46,
          47,
          33,
          57,
          36,
          35,
          18,
          31,
          64,
          19,
          45,
          47,
          55,
          21,
          18,
          25,
          46,
          56,
          20,
          49,
          27,
          27,
          36,
          63,
          51,
          50,
          40,
          45,
          49,
          24,
          46,
          25,
          18,
          20,
          41,
          40,
          25,
          64,
          54,
          20,
          50,
          45,
          64,
          25,
          51,
          52,
          49,
          41,
          31,
          49,
          63,
          60,
          33,
          21,
          54,
          38,
          31,
          48,
          35,
          24,
          27,
          24,
          50,
          40,
          38,
          36,
          36,
          53,
          46,
          35,
          19,
          18,
          64,
          22,
          37,
          28,
          59,
          19,
          20,
          40,
          29,
          37,
          22,
          54,
          55,
          47,
          26,
          51,
          61,
          52,
          39,
          61,
          41,
          34,
          27,
          47,
          63,
          40,
          49,
          34,
          34,
          31,
          26,
          57,
          19,
          62,
          42,
          56,
          26,
          39,
          60,
          63,
          21,
          43,
          46,
          62,
          51,
          40,
          54,
          28,
          23,
          35,
          38,
          59,
          53,
          58,
          55,
          51,
          34,
          54,
          42,
          55,
          29,
          40,
          59,
          39,
          38,
          44,
          48,
          23,
          44,
          57,
          51,
          29,
          62,
          24,
          27,
          62,
          34,
          43,
          38,
          45,
          63,
          19,
          60,
          18,
          53,
          43,
          46,
          38,
          28,
          57,
          28,
          53,
          56,
          57,
          52,
          51,
          64,
          41,
          39,
          22,
          50,
          53,
          64,
          37,
          36,
          52,
          60,
          34,
          62,
          60,
          51,
          26,
          43,
          19,
          26,
          26,
          57,
          34,
          18,
          42,
          60,
          57,
          59,
          42,
          56,
          52,
          20,
          54,
          61,
          61,
          47,
          55,
          51,
          29,
          36,
          54,
          61,
          34,
          27,
          64,
          29,
          33,
          41,
          36,
          25,
          48,
          38,
          34,
          40,
          54,
          33,
          23,
          25,
          42,
          35,
          42,
          29,
          32,
          43,
          58,
          62,
          43,
          64,
          49,
          27,
          33,
          24,
          34,
          40,
          43,
          38,
          39,
          24,
          31,
          32,
          24,
          26,
          25,
          40,
          46,
          35,
          48,
          47,
          56,
          52,
          35,
          59,
          56,
          34,
          31,
          48,
          41,
          52,
          61,
          62,
          51,
          20,
          54,
          60,
          57,
          43,
          40,
          61,
          56,
          32,
          21,
          46,
          39,
          42,
          30,
          35,
          50,
          33,
          62,
          59,
          61,
          19,
          52,
          59,
          51,
          47,
          30,
          30,
          35,
          49,
          49,
          52,
          56,
          63,
          46,
          46,
          61,
          33,
          61,
          64,
          27,
          47,
          42,
          56,
          37,
          22,
          18,
          47,
          20,
          62,
          31,
          47,
          21,
          35,
          54,
          42,
          18,
          63,
          32,
          26,
          32,
          41,
          21,
          29,
          54,
          54,
          60,
          23,
          56,
          63,
          41,
          28,
          30,
          51,
          42,
          24,
          21,
          25,
          37,
          46,
          62,
          63,
          27,
          60,
          51,
          43,
          58,
          20,
          23,
          22,
          22,
          64,
          40,
          26,
          52,
          37,
          59,
          52,
          35,
          34,
          41,
          20,
          49,
          52,
          55,
          30,
          64,
          42,
          26,
          21,
          31,
          54,
          51,
          28,
          58,
          20,
          45,
          46,
          26,
          20,
          42,
          51,
          29,
          59,
          26,
          32,
          57,
          42,
          22,
          28,
          51,
          41,
          32,
          55,
          25,
          22,
          43,
          35,
          23,
          54,
          30,
          45,
          22,
          30,
          34,
          57,
          62,
          49,
          46,
          20,
          57,
          51,
          57,
          44,
          30,
          62,
          50,
          23,
          41,
          36,
          33,
          57,
          45,
          50,
          58,
          30,
          60,
          62,
          42,
          59,
          53,
          44,
          55,
          24,
          22,
          60,
          62,
          48,
          40,
          59,
          27,
          49,
          60,
          47,
          56,
          48,
          35,
          53,
          19,
          31,
          30,
          46,
          29,
          56,
          19,
          49,
          30,
          63,
          44,
          58,
          34,
          57,
          48,
          51,
          41,
          62,
          52,
          23,
          36,
          47
         ],
         "xaxis": "x2",
         "yaxis": "y2"
        }
       ],
       "layout": {
        "barmode": "relative",
        "legend": {
         "tracegroupgap": 0
        },
        "template": {
         "data": {
          "bar": [
           {
            "error_x": {
             "color": "#2a3f5f"
            },
            "error_y": {
             "color": "#2a3f5f"
            },
            "marker": {
             "line": {
              "color": "#E5ECF6",
              "width": 0.5
             },
             "pattern": {
              "fillmode": "overlay",
              "size": 10,
              "solidity": 0.2
             }
            },
            "type": "bar"
           }
          ],
          "barpolar": [
           {
            "marker": {
             "line": {
              "color": "#E5ECF6",
              "width": 0.5
             },
             "pattern": {
              "fillmode": "overlay",
              "size": 10,
              "solidity": 0.2
             }
            },
            "type": "barpolar"
           }
          ],
          "carpet": [
           {
            "aaxis": {
             "endlinecolor": "#2a3f5f",
             "gridcolor": "white",
             "linecolor": "white",
             "minorgridcolor": "white",
             "startlinecolor": "#2a3f5f"
            },
            "baxis": {
             "endlinecolor": "#2a3f5f",
             "gridcolor": "white",
             "linecolor": "white",
             "minorgridcolor": "white",
             "startlinecolor": "#2a3f5f"
            },
            "type": "carpet"
           }
          ],
          "choropleth": [
           {
            "colorbar": {
             "outlinewidth": 0,
             "ticks": ""
            },
            "type": "choropleth"
           }
          ],
          "contour": [
           {
            "colorbar": {
             "outlinewidth": 0,
             "ticks": ""
            },
            "colorscale": [
             [
              0,
              "#0d0887"
             ],
             [
              0.1111111111111111,
              "#46039f"
             ],
             [
              0.2222222222222222,
              "#7201a8"
             ],
             [
              0.3333333333333333,
              "#9c179e"
             ],
             [
              0.4444444444444444,
              "#bd3786"
             ],
             [
              0.5555555555555556,
              "#d8576b"
             ],
             [
              0.6666666666666666,
              "#ed7953"
             ],
             [
              0.7777777777777778,
              "#fb9f3a"
             ],
             [
              0.8888888888888888,
              "#fdca26"
             ],
             [
              1,
              "#f0f921"
             ]
            ],
            "type": "contour"
           }
          ],
          "contourcarpet": [
           {
            "colorbar": {
             "outlinewidth": 0,
             "ticks": ""
            },
            "type": "contourcarpet"
           }
          ],
          "heatmap": [
           {
            "colorbar": {
             "outlinewidth": 0,
             "ticks": ""
            },
            "colorscale": [
             [
              0,
              "#0d0887"
             ],
             [
              0.1111111111111111,
              "#46039f"
             ],
             [
              0.2222222222222222,
              "#7201a8"
             ],
             [
              0.3333333333333333,
              "#9c179e"
             ],
             [
              0.4444444444444444,
              "#bd3786"
             ],
             [
              0.5555555555555556,
              "#d8576b"
             ],
             [
              0.6666666666666666,
              "#ed7953"
             ],
             [
              0.7777777777777778,
              "#fb9f3a"
             ],
             [
              0.8888888888888888,
              "#fdca26"
             ],
             [
              1,
              "#f0f921"
             ]
            ],
            "type": "heatmap"
           }
          ],
          "heatmapgl": [
           {
            "colorbar": {
             "outlinewidth": 0,
             "ticks": ""
            },
            "colorscale": [
             [
              0,
              "#0d0887"
             ],
             [
              0.1111111111111111,
              "#46039f"
             ],
             [
              0.2222222222222222,
              "#7201a8"
             ],
             [
              0.3333333333333333,
              "#9c179e"
             ],
             [
              0.4444444444444444,
              "#bd3786"
             ],
             [
              0.5555555555555556,
              "#d8576b"
             ],
             [
              0.6666666666666666,
              "#ed7953"
             ],
             [
              0.7777777777777778,
              "#fb9f3a"
             ],
             [
              0.8888888888888888,
              "#fdca26"
             ],
             [
              1,
              "#f0f921"
             ]
            ],
            "type": "heatmapgl"
           }
          ],
          "histogram": [
           {
            "marker": {
             "pattern": {
              "fillmode": "overlay",
              "size": 10,
              "solidity": 0.2
             }
            },
            "type": "histogram"
           }
          ],
          "histogram2d": [
           {
            "colorbar": {
             "outlinewidth": 0,
             "ticks": ""
            },
            "colorscale": [
             [
              0,
              "#0d0887"
             ],
             [
              0.1111111111111111,
              "#46039f"
             ],
             [
              0.2222222222222222,
              "#7201a8"
             ],
             [
              0.3333333333333333,
              "#9c179e"
             ],
             [
              0.4444444444444444,
              "#bd3786"
             ],
             [
              0.5555555555555556,
              "#d8576b"
             ],
             [
              0.6666666666666666,
              "#ed7953"
             ],
             [
              0.7777777777777778,
              "#fb9f3a"
             ],
             [
              0.8888888888888888,
              "#fdca26"
             ],
             [
              1,
              "#f0f921"
             ]
            ],
            "type": "histogram2d"
           }
          ],
          "histogram2dcontour": [
           {
            "colorbar": {
             "outlinewidth": 0,
             "ticks": ""
            },
            "colorscale": [
             [
              0,
              "#0d0887"
             ],
             [
              0.1111111111111111,
              "#46039f"
             ],
             [
              0.2222222222222222,
              "#7201a8"
             ],
             [
              0.3333333333333333,
              "#9c179e"
             ],
             [
              0.4444444444444444,
              "#bd3786"
             ],
             [
              0.5555555555555556,
              "#d8576b"
             ],
             [
              0.6666666666666666,
              "#ed7953"
             ],
             [
              0.7777777777777778,
              "#fb9f3a"
             ],
             [
              0.8888888888888888,
              "#fdca26"
             ],
             [
              1,
              "#f0f921"
             ]
            ],
            "type": "histogram2dcontour"
           }
          ],
          "mesh3d": [
           {
            "colorbar": {
             "outlinewidth": 0,
             "ticks": ""
            },
            "type": "mesh3d"
           }
          ],
          "parcoords": [
           {
            "line": {
             "colorbar": {
              "outlinewidth": 0,
              "ticks": ""
             }
            },
            "type": "parcoords"
           }
          ],
          "pie": [
           {
            "automargin": true,
            "type": "pie"
           }
          ],
          "scatter": [
           {
            "fillpattern": {
             "fillmode": "overlay",
             "size": 10,
             "solidity": 0.2
            },
            "type": "scatter"
           }
          ],
          "scatter3d": [
           {
            "line": {
             "colorbar": {
              "outlinewidth": 0,
              "ticks": ""
             }
            },
            "marker": {
             "colorbar": {
              "outlinewidth": 0,
              "ticks": ""
             }
            },
            "type": "scatter3d"
           }
          ],
          "scattercarpet": [
           {
            "marker": {
             "colorbar": {
              "outlinewidth": 0,
              "ticks": ""
             }
            },
            "type": "scattercarpet"
           }
          ],
          "scattergeo": [
           {
            "marker": {
             "colorbar": {
              "outlinewidth": 0,
              "ticks": ""
             }
            },
            "type": "scattergeo"
           }
          ],
          "scattergl": [
           {
            "marker": {
             "colorbar": {
              "outlinewidth": 0,
              "ticks": ""
             }
            },
            "type": "scattergl"
           }
          ],
          "scattermapbox": [
           {
            "marker": {
             "colorbar": {
              "outlinewidth": 0,
              "ticks": ""
             }
            },
            "type": "scattermapbox"
           }
          ],
          "scatterpolar": [
           {
            "marker": {
             "colorbar": {
              "outlinewidth": 0,
              "ticks": ""
             }
            },
            "type": "scatterpolar"
           }
          ],
          "scatterpolargl": [
           {
            "marker": {
             "colorbar": {
              "outlinewidth": 0,
              "ticks": ""
             }
            },
            "type": "scatterpolargl"
           }
          ],
          "scatterternary": [
           {
            "marker": {
             "colorbar": {
              "outlinewidth": 0,
              "ticks": ""
             }
            },
            "type": "scatterternary"
           }
          ],
          "surface": [
           {
            "colorbar": {
             "outlinewidth": 0,
             "ticks": ""
            },
            "colorscale": [
             [
              0,
              "#0d0887"
             ],
             [
              0.1111111111111111,
              "#46039f"
             ],
             [
              0.2222222222222222,
              "#7201a8"
             ],
             [
              0.3333333333333333,
              "#9c179e"
             ],
             [
              0.4444444444444444,
              "#bd3786"
             ],
             [
              0.5555555555555556,
              "#d8576b"
             ],
             [
              0.6666666666666666,
              "#ed7953"
             ],
             [
              0.7777777777777778,
              "#fb9f3a"
             ],
             [
              0.8888888888888888,
              "#fdca26"
             ],
             [
              1,
              "#f0f921"
             ]
            ],
            "type": "surface"
           }
          ],
          "table": [
           {
            "cells": {
             "fill": {
              "color": "#EBF0F8"
             },
             "line": {
              "color": "white"
             }
            },
            "header": {
             "fill": {
              "color": "#C8D4E3"
             },
             "line": {
              "color": "white"
             }
            },
            "type": "table"
           }
          ]
         },
         "layout": {
          "annotationdefaults": {
           "arrowcolor": "#2a3f5f",
           "arrowhead": 0,
           "arrowwidth": 1
          },
          "autotypenumbers": "strict",
          "coloraxis": {
           "colorbar": {
            "outlinewidth": 0,
            "ticks": ""
           }
          },
          "colorscale": {
           "diverging": [
            [
             0,
             "#8e0152"
            ],
            [
             0.1,
             "#c51b7d"
            ],
            [
             0.2,
             "#de77ae"
            ],
            [
             0.3,
             "#f1b6da"
            ],
            [
             0.4,
             "#fde0ef"
            ],
            [
             0.5,
             "#f7f7f7"
            ],
            [
             0.6,
             "#e6f5d0"
            ],
            [
             0.7,
             "#b8e186"
            ],
            [
             0.8,
             "#7fbc41"
            ],
            [
             0.9,
             "#4d9221"
            ],
            [
             1,
             "#276419"
            ]
           ],
           "sequential": [
            [
             0,
             "#0d0887"
            ],
            [
             0.1111111111111111,
             "#46039f"
            ],
            [
             0.2222222222222222,
             "#7201a8"
            ],
            [
             0.3333333333333333,
             "#9c179e"
            ],
            [
             0.4444444444444444,
             "#bd3786"
            ],
            [
             0.5555555555555556,
             "#d8576b"
            ],
            [
             0.6666666666666666,
             "#ed7953"
            ],
            [
             0.7777777777777778,
             "#fb9f3a"
            ],
            [
             0.8888888888888888,
             "#fdca26"
            ],
            [
             1,
             "#f0f921"
            ]
           ],
           "sequentialminus": [
            [
             0,
             "#0d0887"
            ],
            [
             0.1111111111111111,
             "#46039f"
            ],
            [
             0.2222222222222222,
             "#7201a8"
            ],
            [
             0.3333333333333333,
             "#9c179e"
            ],
            [
             0.4444444444444444,
             "#bd3786"
            ],
            [
             0.5555555555555556,
             "#d8576b"
            ],
            [
             0.6666666666666666,
             "#ed7953"
            ],
            [
             0.7777777777777778,
             "#fb9f3a"
            ],
            [
             0.8888888888888888,
             "#fdca26"
            ],
            [
             1,
             "#f0f921"
            ]
           ]
          },
          "colorway": [
           "#636efa",
           "#EF553B",
           "#00cc96",
           "#ab63fa",
           "#FFA15A",
           "#19d3f3",
           "#FF6692",
           "#B6E880",
           "#FF97FF",
           "#FECB52"
          ],
          "font": {
           "color": "#2a3f5f"
          },
          "geo": {
           "bgcolor": "white",
           "lakecolor": "white",
           "landcolor": "#E5ECF6",
           "showlakes": true,
           "showland": true,
           "subunitcolor": "white"
          },
          "hoverlabel": {
           "align": "left"
          },
          "hovermode": "closest",
          "mapbox": {
           "style": "light"
          },
          "paper_bgcolor": "white",
          "plot_bgcolor": "#E5ECF6",
          "polar": {
           "angularaxis": {
            "gridcolor": "white",
            "linecolor": "white",
            "ticks": ""
           },
           "bgcolor": "#E5ECF6",
           "radialaxis": {
            "gridcolor": "white",
            "linecolor": "white",
            "ticks": ""
           }
          },
          "scene": {
           "xaxis": {
            "backgroundcolor": "#E5ECF6",
            "gridcolor": "white",
            "gridwidth": 2,
            "linecolor": "white",
            "showbackground": true,
            "ticks": "",
            "zerolinecolor": "white"
           },
           "yaxis": {
            "backgroundcolor": "#E5ECF6",
            "gridcolor": "white",
            "gridwidth": 2,
            "linecolor": "white",
            "showbackground": true,
            "ticks": "",
            "zerolinecolor": "white"
           },
           "zaxis": {
            "backgroundcolor": "#E5ECF6",
            "gridcolor": "white",
            "gridwidth": 2,
            "linecolor": "white",
            "showbackground": true,
            "ticks": "",
            "zerolinecolor": "white"
           }
          },
          "shapedefaults": {
           "line": {
            "color": "#2a3f5f"
           }
          },
          "ternary": {
           "aaxis": {
            "gridcolor": "white",
            "linecolor": "white",
            "ticks": ""
           },
           "baxis": {
            "gridcolor": "white",
            "linecolor": "white",
            "ticks": ""
           },
           "bgcolor": "#E5ECF6",
           "caxis": {
            "gridcolor": "white",
            "linecolor": "white",
            "ticks": ""
           }
          },
          "title": {
           "x": 0.05
          },
          "xaxis": {
           "automargin": true,
           "gridcolor": "white",
           "linecolor": "white",
           "ticks": "",
           "title": {
            "standoff": 15
           },
           "zerolinecolor": "white",
           "zerolinewidth": 2
          },
          "yaxis": {
           "automargin": true,
           "gridcolor": "white",
           "linecolor": "white",
           "ticks": "",
           "title": {
            "standoff": 15
           },
           "zerolinecolor": "white",
           "zerolinewidth": 2
          }
         }
        },
        "title": {
         "text": "Histograma de la edad de clientes"
        },
        "xaxis": {
         "anchor": "y",
         "domain": [
          0,
          1
         ],
         "title": {
          "text": "Edad"
         }
        },
        "xaxis2": {
         "anchor": "y2",
         "domain": [
          0,
          1
         ],
         "matches": "x",
         "showgrid": true,
         "showticklabels": false
        },
        "yaxis": {
         "anchor": "x",
         "domain": [
          0,
          0.8316
         ],
         "title": {
          "text": "count"
         }
        },
        "yaxis2": {
         "anchor": "x2",
         "domain": [
          0.8416,
          1
         ],
         "matches": "y2",
         "showgrid": false,
         "showline": false,
         "showticklabels": false,
         "ticks": ""
        }
       }
      }
     },
     "metadata": {},
     "output_type": "display_data"
    }
   ],
   "source": [
    "#Este code ejecuta un histograma en la libreria Plotly.\n",
    "fig = px.histogram(df, x='Age', nbins=30, title='Histograma de la edad de clientes', labels={'Age': 'Edad'}, marginal='box')\n",
    "fig.show()"
   ]
  },
  {
   "cell_type": "markdown",
   "metadata": {},
   "source": [
    "### **Subplots para agrupar algunos graficos**"
   ]
  },
  {
   "cell_type": "code",
   "execution_count": 50,
   "metadata": {},
   "outputs": [
    {
     "data": {
      "image/png": "[encoded data removed]",
      "text/plain": [
       "<Figure size 1500x1200 with 4 Axes>"
      ]
     },
     "metadata": {},
     "output_type": "display_data"
    }
   ],
   "source": [
    "# Crear la figura y los ejes para los subplots\n",
    "fig, axes = plt.subplots(2, 2, figsize=(15, 12))  # 2 filas, 2 columnas\n",
    "\n",
    "# Gráfico 1: Total Amount by Age\n",
    "axes[0, 0].bar(grouped1['Age'], grouped1['Total Amount'], color='skyblue', edgecolor='black')\n",
    "axes[0, 0].set_xlabel('Age')\n",
    "axes[0, 0].set_ylabel('Total Amount')\n",
    "axes[0, 0].set_title('Total Amount by Age')\n",
    "axes[0, 0].tick_params(axis='x', rotation=45)\n",
    "axes[0, 0].grid(True)\n",
    "\n",
    "# Gráfico 2: Total Amount by Gender\n",
    "axes[0, 1].bar(grouped2['Gender'], grouped2['Total Amount'], color='skyblue', edgecolor='black')\n",
    "axes[0, 1].set_xlabel('Gender')\n",
    "axes[0, 1].set_ylabel('Total Amount')\n",
    "axes[0, 1].set_title('Total Amount by Gender')\n",
    "axes[0, 1].tick_params(axis='x', rotation=45)\n",
    "\n",
    "# Gráfico 3: Total Amount by Product Category\n",
    "axes[1, 0].bar(grouped3['Product Category'], grouped3['Total Amount'], color='skyblue', edgecolor='black')\n",
    "axes[1, 0].set_xlabel('Product Category')\n",
    "axes[1, 0].set_ylabel('Total Amount')\n",
    "axes[1, 0].set_title('Total Amount by Product Category')\n",
    "axes[1, 0].tick_params(axis='x', rotation=45)\n",
    "\n",
    "# Gráfico 4: Histograma de Age\n",
    "sns.histplot(df['Age'], color='skyblue', edgecolor='black', ax=axes[1, 1])\n",
    "axes[1, 1].set_title('Distribution of Age')\n",
    "\n",
    "# Ajustar el espaciado entre los gráficos\n",
    "plt.tight_layout()\n",
    "plt.show()"
   ]
  }
 ],
 "metadata": {
  "kernelspec": {
   "display_name": "mitic",
   "language": "python",
   "name": "python3"
  },
  "language_info": {
   "codemirror_mode": {
    "name": "ipython",
    "version": 3
   },
   "file_extension": ".py",
   "mimetype": "text/x-python",
   "name": "python",
   "nbconvert_exporter": "python",
   "pygments_lexer": "ipython3",
   "version": "3.12.7"
  }
 },
 "nbformat": 4,
 "nbformat_minor": 2
}
