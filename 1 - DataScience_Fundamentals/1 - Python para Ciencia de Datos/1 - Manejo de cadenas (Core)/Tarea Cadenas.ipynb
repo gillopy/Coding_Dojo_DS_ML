{
 "cells": [
  {
   "cell_type": "markdown",
   "metadata": {},
   "source": [
    "# Manejo de cadenas\n",
    "\n",
    "\n",
    "Para aplicar lo aprendido, realiza los siguientes ejercicios:\n",
    "\n",
    "### Ejercicio 1: Saludo Personalizado\n",
    "\n",
    "Crea un programa que pida al usuario su nombre y edad, y luego imprima un saludo personalizado.\n",
    "Usa input para capturar el nombre y la edad.\n",
    "Usa print para mostrar el saludo.\n",
    "\n",
    "\n",
    "### Ejercicio 2: Manipulación de Cadenas\n",
    "\n",
    "* Crea una cadena con tu nombre completo.\n",
    "* Usa los métodos de cadenas para:\n",
    "* Convertir el nombre a mayúsculas y minúsculas.\n",
    "* Contar el número de letras en tu nombre.\n",
    "* Reemplazar tu primer nombre por otro nombre.\n",
    "\n",
    "\n",
    "### Ejercicio 3: Lista de Nombres\n",
    "\n",
    "* Pide al usuario que ingrese una lista de nombres separados por comas.\n",
    "* Usa split para convertir esta cadena en una lista de nombres.\n",
    "* Imprime cada nombre en una línea separada.\n",
    "\n",
    "\n",
    "* Guarda el notebook en tu Google Drive y comparte el enlace con el instructor a través de la plataforma de la clase."
   ]
  },
  {
   "cell_type": "code",
   "execution_count": 1,
   "metadata": {},
   "outputs": [
    {
     "name": "stdout",
     "output_type": "stream",
     "text": [
      "Hola, mi nombre es Guillermo y tengo 27 años\n"
     ]
    }
   ],
   "source": [
    "#Ejercicio 1\n",
    "\n",
    "Nombre = input(\"Ingresa tu nombre: \")\n",
    "Edad = input(\"Ingresa tu edad: \")\n",
    "\n",
    "print(\"Hola, mi nombre es \" + Nombre + \" y tengo \" + Edad + \" años\")"
   ]
  },
  {
   "cell_type": "code",
   "execution_count": 6,
   "metadata": {},
   "outputs": [
    {
     "name": "stdout",
     "output_type": "stream",
     "text": [
      "Guillermo Javier Cabrera Villar\n",
      "GUILLERMO JAVIER CABRERA VILLAR\n",
      "guillermo javier cabrera villar\n",
      "Javier\n"
     ]
    }
   ],
   "source": [
    "#Ejercicio 2\n",
    "# Crea una cadena con tu nombre completo.\n",
    "# Usa los métodos de cadenas para:\n",
    "# Convertir el nombre a mayúsculas y minúsculas.\n",
    "# Contar el número de letras en tu nombre.\n",
    "# Reemplazar tu primer nombre por otro nombre.\n",
    "\n",
    "nombre = \"Guillermo Javier Cabrera Villar\"\n",
    "nombresolo= \"Guillermo\"\n",
    "nombreMayuscula = nombre.upper()\n",
    "nombreMinuscula = nombre.lower()\n",
    "\n",
    "# Contar el número de letras en tu nombre.\n",
    "numeroletras = len(nombre)\n",
    "\n",
    "# Reemplazar tu primer nombre por otro nombre.\n",
    "nuevonombre = nombresolo.replace(\"Guillermo\", \"Javier\")\n",
    "\n",
    "print(nombre)\n",
    "print(nombreMayuscula)\n",
    "print(nombreMinuscula)\n",
    "print(nuevonombre)\n"
   ]
  }
 ],
 "metadata": {
  "kernelspec": {
   "display_name": "mitic",
   "language": "python",
   "name": "python3"
  },
  "language_info": {
   "codemirror_mode": {
    "name": "ipython",
    "version": 3
   },
   "file_extension": ".py",
   "mimetype": "text/x-python",
   "name": "python",
   "nbconvert_exporter": "python",
   "pygments_lexer": "ipython3",
   "version": "3.12.7"
  }
 },
 "nbformat": 4,
 "nbformat_minor": 2
}
